{
 "cells": [
  {
   "cell_type": "code",
   "execution_count": 1,
   "metadata": {
    "collapsed": true
   },
   "outputs": [],
   "source": [
    "import pandas as pd\n",
    "import numpy as np\n",
    "import matplotlib.pyplot as plt\n",
    "import matplotlib.dates as mdates\n",
    "import seaborn as sns"
   ]
  },
  {
   "cell_type": "markdown",
   "metadata": {},
   "source": [
    "# Events Table"
   ]
  },
  {
   "cell_type": "code",
   "execution_count": 2,
   "metadata": {
    "collapsed": true
   },
   "outputs": [],
   "source": [
    "events = pd.read_csv('events.csv', parse_dates=True)\n",
    "events['event_timestamp'] = pd.to_datetime(events['event_timestamp'])"
   ]
  },
  {
   "cell_type": "code",
   "execution_count": 3,
   "metadata": {},
   "outputs": [
    {
     "data": {
      "text/html": [
       "<div>\n",
       "<style>\n",
       "    .dataframe thead tr:only-child th {\n",
       "        text-align: right;\n",
       "    }\n",
       "\n",
       "    .dataframe thead th {\n",
       "        text-align: left;\n",
       "    }\n",
       "\n",
       "    .dataframe tbody tr th {\n",
       "        vertical-align: top;\n",
       "    }\n",
       "</style>\n",
       "<table border=\"1\" class=\"dataframe\">\n",
       "  <thead>\n",
       "    <tr style=\"text-align: right;\">\n",
       "      <th></th>\n",
       "      <th>user_id</th>\n",
       "      <th>user_session_id</th>\n",
       "      <th>event_timestamp</th>\n",
       "      <th>app</th>\n",
       "      <th>time_seconds</th>\n",
       "    </tr>\n",
       "  </thead>\n",
       "  <tbody>\n",
       "    <tr>\n",
       "      <th>0</th>\n",
       "      <td>02fd5305cce536a1940aea0818ba7a3d</td>\n",
       "      <td>6690452e89aa62cdfa818d1f469aaf37</td>\n",
       "      <td>2015-03-22 00:08:12</td>\n",
       "      <td>build</td>\n",
       "      <td>67</td>\n",
       "    </tr>\n",
       "    <tr>\n",
       "      <th>1</th>\n",
       "      <td>955ef0ba3e7de00197f2ab6828cb4d05</td>\n",
       "      <td>af2d613e4e5695fd4d8610a0086de760</td>\n",
       "      <td>2015-03-22 20:56:29</td>\n",
       "      <td>build</td>\n",
       "      <td>277</td>\n",
       "    </tr>\n",
       "    <tr>\n",
       "      <th>2</th>\n",
       "      <td>955ef0ba3e7de00197f2ab6828cb4d05</td>\n",
       "      <td>af2d613e4e5695fd4d8610a0086de760</td>\n",
       "      <td>2015-03-22 21:15:33</td>\n",
       "      <td>build</td>\n",
       "      <td>779</td>\n",
       "    </tr>\n",
       "    <tr>\n",
       "      <th>3</th>\n",
       "      <td>3768b95029f051316727e5413362dcff</td>\n",
       "      <td>7af8b316d551662e89ef0afbedd06be8</td>\n",
       "      <td>2015-03-22 02:17:00</td>\n",
       "      <td>build</td>\n",
       "      <td>145</td>\n",
       "    </tr>\n",
       "    <tr>\n",
       "      <th>4</th>\n",
       "      <td>3768b95029f051316727e5413362dcff</td>\n",
       "      <td>7af8b316d551662e89ef0afbedd06be8</td>\n",
       "      <td>2015-03-22 03:26:03</td>\n",
       "      <td>draw</td>\n",
       "      <td>319</td>\n",
       "    </tr>\n",
       "  </tbody>\n",
       "</table>\n",
       "</div>"
      ],
      "text/plain": [
       "                            user_id                   user_session_id  \\\n",
       "0  02fd5305cce536a1940aea0818ba7a3d  6690452e89aa62cdfa818d1f469aaf37   \n",
       "1  955ef0ba3e7de00197f2ab6828cb4d05  af2d613e4e5695fd4d8610a0086de760   \n",
       "2  955ef0ba3e7de00197f2ab6828cb4d05  af2d613e4e5695fd4d8610a0086de760   \n",
       "3  3768b95029f051316727e5413362dcff  7af8b316d551662e89ef0afbedd06be8   \n",
       "4  3768b95029f051316727e5413362dcff  7af8b316d551662e89ef0afbedd06be8   \n",
       "\n",
       "      event_timestamp    app  time_seconds  \n",
       "0 2015-03-22 00:08:12  build            67  \n",
       "1 2015-03-22 20:56:29  build           277  \n",
       "2 2015-03-22 21:15:33  build           779  \n",
       "3 2015-03-22 02:17:00  build           145  \n",
       "4 2015-03-22 03:26:03   draw           319  "
      ]
     },
     "execution_count": 3,
     "metadata": {},
     "output_type": "execute_result"
    }
   ],
   "source": [
    "events.head()"
   ]
  },
  {
   "cell_type": "code",
   "execution_count": 4,
   "metadata": {},
   "outputs": [
    {
     "name": "stdout",
     "output_type": "stream",
     "text": [
      "<class 'pandas.core.frame.DataFrame'>\n",
      "RangeIndex: 27726 entries, 0 to 27725\n",
      "Data columns (total 5 columns):\n",
      "user_id            27726 non-null object\n",
      "user_session_id    27726 non-null object\n",
      "event_timestamp    27726 non-null datetime64[ns]\n",
      "app                27726 non-null object\n",
      "time_seconds       27726 non-null int64\n",
      "dtypes: datetime64[ns](1), int64(1), object(3)\n",
      "memory usage: 1.1+ MB\n"
     ]
    }
   ],
   "source": [
    "events.info()"
   ]
  },
  {
   "cell_type": "markdown",
   "metadata": {},
   "source": [
    "# Users Table"
   ]
  },
  {
   "cell_type": "code",
   "execution_count": 5,
   "metadata": {
    "collapsed": true
   },
   "outputs": [],
   "source": [
    "users = pd.read_csv('users.csv', parse_dates=True)\n",
    "users['install_date'] = pd.to_datetime(users['install_date'])"
   ]
  },
  {
   "cell_type": "code",
   "execution_count": 6,
   "metadata": {},
   "outputs": [
    {
     "data": {
      "text/html": [
       "<div>\n",
       "<style>\n",
       "    .dataframe thead tr:only-child th {\n",
       "        text-align: right;\n",
       "    }\n",
       "\n",
       "    .dataframe thead th {\n",
       "        text-align: left;\n",
       "    }\n",
       "\n",
       "    .dataframe tbody tr th {\n",
       "        vertical-align: top;\n",
       "    }\n",
       "</style>\n",
       "<table border=\"1\" class=\"dataframe\">\n",
       "  <thead>\n",
       "    <tr style=\"text-align: right;\">\n",
       "      <th></th>\n",
       "      <th>user_id</th>\n",
       "      <th>install_date</th>\n",
       "      <th>app_version</th>\n",
       "    </tr>\n",
       "  </thead>\n",
       "  <tbody>\n",
       "    <tr>\n",
       "      <th>0</th>\n",
       "      <td>000a0efdaf94f2a5a09ab0d03f92f5bf</td>\n",
       "      <td>2014-12-25</td>\n",
       "      <td>v1</td>\n",
       "    </tr>\n",
       "    <tr>\n",
       "      <th>1</th>\n",
       "      <td>0020cb805d63f036ad2c22dd8e76e368</td>\n",
       "      <td>2016-01-16</td>\n",
       "      <td>Unknown</td>\n",
       "    </tr>\n",
       "    <tr>\n",
       "      <th>2</th>\n",
       "      <td>002a9119a4b3dfb05e0159eee40576b6</td>\n",
       "      <td>2015-12-29</td>\n",
       "      <td>v2</td>\n",
       "    </tr>\n",
       "    <tr>\n",
       "      <th>3</th>\n",
       "      <td>0038c5018fb1c0c9d0dea9181a5a0834</td>\n",
       "      <td>2015-06-06</td>\n",
       "      <td>v2</td>\n",
       "    </tr>\n",
       "    <tr>\n",
       "      <th>4</th>\n",
       "      <td>00448cf7dd8ad9e8a57fdcfa262a4438</td>\n",
       "      <td>2015-12-22</td>\n",
       "      <td>v2</td>\n",
       "    </tr>\n",
       "  </tbody>\n",
       "</table>\n",
       "</div>"
      ],
      "text/plain": [
       "                            user_id install_date app_version\n",
       "0  000a0efdaf94f2a5a09ab0d03f92f5bf   2014-12-25          v1\n",
       "1  0020cb805d63f036ad2c22dd8e76e368   2016-01-16     Unknown\n",
       "2  002a9119a4b3dfb05e0159eee40576b6   2015-12-29          v2\n",
       "3  0038c5018fb1c0c9d0dea9181a5a0834   2015-06-06          v2\n",
       "4  00448cf7dd8ad9e8a57fdcfa262a4438   2015-12-22          v2"
      ]
     },
     "execution_count": 6,
     "metadata": {},
     "output_type": "execute_result"
    }
   ],
   "source": [
    "users.head()"
   ]
  },
  {
   "cell_type": "code",
   "execution_count": 7,
   "metadata": {},
   "outputs": [
    {
     "name": "stdout",
     "output_type": "stream",
     "text": [
      "<class 'pandas.core.frame.DataFrame'>\n",
      "RangeIndex: 3900 entries, 0 to 3899\n",
      "Data columns (total 3 columns):\n",
      "user_id         3900 non-null object\n",
      "install_date    3900 non-null datetime64[ns]\n",
      "app_version     3900 non-null object\n",
      "dtypes: datetime64[ns](1), object(2)\n",
      "memory usage: 91.5+ KB\n"
     ]
    }
   ],
   "source": [
    "users.info()"
   ]
  },
  {
   "cell_type": "markdown",
   "metadata": {},
   "source": [
    "# Number of Users"
   ]
  },
  {
   "cell_type": "code",
   "execution_count": 8,
   "metadata": {
    "collapsed": true
   },
   "outputs": [],
   "source": [
    "# Converting seconds into minutes\n",
    "events['time_min'] = events['time_seconds'] / 60\n",
    "events.drop('time_seconds', axis=1, inplace=True)"
   ]
  },
  {
   "cell_type": "code",
   "execution_count": 9,
   "metadata": {
    "collapsed": true
   },
   "outputs": [],
   "source": [
    "events_2 = pd.merge(events, users, how='left', on='user_id')"
   ]
  },
  {
   "cell_type": "code",
   "execution_count": 10,
   "metadata": {},
   "outputs": [
    {
     "data": {
      "text/html": [
       "<div>\n",
       "<style>\n",
       "    .dataframe thead tr:only-child th {\n",
       "        text-align: right;\n",
       "    }\n",
       "\n",
       "    .dataframe thead th {\n",
       "        text-align: left;\n",
       "    }\n",
       "\n",
       "    .dataframe tbody tr th {\n",
       "        vertical-align: top;\n",
       "    }\n",
       "</style>\n",
       "<table border=\"1\" class=\"dataframe\">\n",
       "  <thead>\n",
       "    <tr style=\"text-align: right;\">\n",
       "      <th></th>\n",
       "      <th>user_id</th>\n",
       "      <th>user_session_id</th>\n",
       "      <th>event_timestamp</th>\n",
       "      <th>app</th>\n",
       "      <th>time_min</th>\n",
       "      <th>install_date</th>\n",
       "      <th>app_version</th>\n",
       "    </tr>\n",
       "  </thead>\n",
       "  <tbody>\n",
       "    <tr>\n",
       "      <th>0</th>\n",
       "      <td>02fd5305cce536a1940aea0818ba7a3d</td>\n",
       "      <td>6690452e89aa62cdfa818d1f469aaf37</td>\n",
       "      <td>2015-03-22 00:08:12</td>\n",
       "      <td>build</td>\n",
       "      <td>1.116667</td>\n",
       "      <td>2015-03-21</td>\n",
       "      <td>v1</td>\n",
       "    </tr>\n",
       "    <tr>\n",
       "      <th>1</th>\n",
       "      <td>955ef0ba3e7de00197f2ab6828cb4d05</td>\n",
       "      <td>af2d613e4e5695fd4d8610a0086de760</td>\n",
       "      <td>2015-03-22 20:56:29</td>\n",
       "      <td>build</td>\n",
       "      <td>4.616667</td>\n",
       "      <td>2015-01-26</td>\n",
       "      <td>v1</td>\n",
       "    </tr>\n",
       "    <tr>\n",
       "      <th>2</th>\n",
       "      <td>955ef0ba3e7de00197f2ab6828cb4d05</td>\n",
       "      <td>af2d613e4e5695fd4d8610a0086de760</td>\n",
       "      <td>2015-03-22 21:15:33</td>\n",
       "      <td>build</td>\n",
       "      <td>12.983333</td>\n",
       "      <td>2015-01-26</td>\n",
       "      <td>v1</td>\n",
       "    </tr>\n",
       "    <tr>\n",
       "      <th>3</th>\n",
       "      <td>3768b95029f051316727e5413362dcff</td>\n",
       "      <td>7af8b316d551662e89ef0afbedd06be8</td>\n",
       "      <td>2015-03-22 02:17:00</td>\n",
       "      <td>build</td>\n",
       "      <td>2.416667</td>\n",
       "      <td>2015-03-22</td>\n",
       "      <td>v1</td>\n",
       "    </tr>\n",
       "    <tr>\n",
       "      <th>4</th>\n",
       "      <td>3768b95029f051316727e5413362dcff</td>\n",
       "      <td>7af8b316d551662e89ef0afbedd06be8</td>\n",
       "      <td>2015-03-22 03:26:03</td>\n",
       "      <td>draw</td>\n",
       "      <td>5.316667</td>\n",
       "      <td>2015-03-22</td>\n",
       "      <td>v1</td>\n",
       "    </tr>\n",
       "  </tbody>\n",
       "</table>\n",
       "</div>"
      ],
      "text/plain": [
       "                            user_id                   user_session_id  \\\n",
       "0  02fd5305cce536a1940aea0818ba7a3d  6690452e89aa62cdfa818d1f469aaf37   \n",
       "1  955ef0ba3e7de00197f2ab6828cb4d05  af2d613e4e5695fd4d8610a0086de760   \n",
       "2  955ef0ba3e7de00197f2ab6828cb4d05  af2d613e4e5695fd4d8610a0086de760   \n",
       "3  3768b95029f051316727e5413362dcff  7af8b316d551662e89ef0afbedd06be8   \n",
       "4  3768b95029f051316727e5413362dcff  7af8b316d551662e89ef0afbedd06be8   \n",
       "\n",
       "      event_timestamp    app   time_min install_date app_version  \n",
       "0 2015-03-22 00:08:12  build   1.116667   2015-03-21          v1  \n",
       "1 2015-03-22 20:56:29  build   4.616667   2015-01-26          v1  \n",
       "2 2015-03-22 21:15:33  build  12.983333   2015-01-26          v1  \n",
       "3 2015-03-22 02:17:00  build   2.416667   2015-03-22          v1  \n",
       "4 2015-03-22 03:26:03   draw   5.316667   2015-03-22          v1  "
      ]
     },
     "execution_count": 10,
     "metadata": {},
     "output_type": "execute_result"
    }
   ],
   "source": [
    "# User_id's and versions that they use.\n",
    "events_2.head()"
   ]
  },
  {
   "cell_type": "code",
   "execution_count": 11,
   "metadata": {},
   "outputs": [
    {
     "data": {
      "image/png": "[encoded data removed]",
      "text/plain": [
       "<matplotlib.figure.Figure at 0x11283a470>"
      ]
     },
     "metadata": {},
     "output_type": "display_data"
    }
   ],
   "source": [
    "# Histogram of user counts per version\n",
    "events_with_unique_users = events_2.drop_duplicates(subset='user_id', keep='first')\n",
    "sns.countplot(x='app_version', data=events_with_unique_users)\n",
    "plt.title('Number of users by version')\n",
    "plt.savefig('01.png')\n",
    "plt.show()"
   ]
  },
  {
   "cell_type": "code",
   "execution_count": 12,
   "metadata": {},
   "outputs": [
    {
     "data": {
      "image/png": "[encoded data removed]",
      "text/plain": [
       "<matplotlib.figure.Figure at 0x11813d4a8>"
      ]
     },
     "metadata": {},
     "output_type": "display_data"
    }
   ],
   "source": [
    "sns.countplot(x='app', data=events_with_unique_users)\n",
    "plt.title('Number of users by app area')\n",
    "plt.savefig('02.png')\n",
    "plt.show()"
   ]
  },
  {
   "cell_type": "code",
   "execution_count": 13,
   "metadata": {
    "collapsed": true
   },
   "outputs": [],
   "source": [
    "# Total number of users\n",
    "monthly_users = events_with_unique_users.resample('M', on='event_timestamp')['user_id'].count()"
   ]
  },
  {
   "cell_type": "code",
   "execution_count": 14,
   "metadata": {
    "collapsed": true
   },
   "outputs": [],
   "source": [
    "monthly_users = pd.DataFrame(monthly_users.cumsum()).reset_index()\n",
    "monthly_users['months'] = monthly_users.event_timestamp.apply(lambda x: x.strftime('%Y-%m'))\n",
    "monthly_users = monthly_users.rename(columns={'user_id' : 'total_users'})"
   ]
  },
  {
   "cell_type": "code",
   "execution_count": 15,
   "metadata": {},
   "outputs": [
    {
     "data": {
      "image/png": "[encoded data removed]",
      "text/plain": [
       "<matplotlib.figure.Figure at 0x1173231d0>"
      ]
     },
     "metadata": {},
     "output_type": "display_data"
    }
   ],
   "source": [
    "monthly_users.plot(x='months',y='total_users',figsize=(15,5),kind='bar')\n",
    "plt.tight_layout()\n",
    "plt.savefig('03.png')\n",
    "plt.show()"
   ]
  },
  {
   "cell_type": "markdown",
   "metadata": {},
   "source": [
    "# Monthly Active Users"
   ]
  },
  {
   "cell_type": "code",
   "execution_count": 16,
   "metadata": {},
   "outputs": [
    {
     "data": {
      "image/png": "[encoded data removed]",
      "text/plain": [
       "<matplotlib.figure.Figure at 0x117998748>"
      ]
     },
     "metadata": {},
     "output_type": "display_data"
    }
   ],
   "source": [
    "events_3 = events_2.resample('M',on='event_timestamp').agg({'user_id': pd.Series.nunique})\n",
    "events_3 = events_3.reset_index()\n",
    "events_3['month_year'] = events_3['event_timestamp'].apply(lambda x:x.strftime('%Y-%m'))\n",
    "events_3.drop('event_timestamp', axis=1, inplace=True)\n",
    "events_3.rename(columns={'user_id':'active_user'}, inplace=True)\n",
    "events_3.head()\n",
    "events_3.plot(x='month_year', y='active_user',figsize=(15,4), kind='bar')\n",
    "plt.tight_layout()\n",
    "plt.savefig('04.png')\n",
    "plt.show()"
   ]
  },
  {
   "cell_type": "code",
   "execution_count": 17,
   "metadata": {
    "collapsed": true
   },
   "outputs": [],
   "source": [
    "# Active users by versions\n",
    "events_4 = events_2.copy()\n",
    "events_4['date'] = (pd.to_datetime(events_4['event_timestamp'])).apply(lambda x: x.strftime('%Y-%m'))\n",
    "active_users_versions = events_4.groupby(['app_version','date']).agg({'user_id': pd.Series.nunique})\n",
    "active_users_versions = active_users_versions.rename(columns={'user_id' : 'total_active_users'})"
   ]
  },
  {
   "cell_type": "code",
   "execution_count": 18,
   "metadata": {},
   "outputs": [
    {
     "data": {
      "text/html": [
       "<div>\n",
       "<style>\n",
       "    .dataframe thead tr:only-child th {\n",
       "        text-align: right;\n",
       "    }\n",
       "\n",
       "    .dataframe thead th {\n",
       "        text-align: left;\n",
       "    }\n",
       "\n",
       "    .dataframe tbody tr th {\n",
       "        vertical-align: top;\n",
       "    }\n",
       "</style>\n",
       "<table border=\"1\" class=\"dataframe\">\n",
       "  <thead>\n",
       "    <tr style=\"text-align: right;\">\n",
       "      <th></th>\n",
       "      <th></th>\n",
       "      <th>total_active_users</th>\n",
       "    </tr>\n",
       "    <tr>\n",
       "      <th>app_version</th>\n",
       "      <th>date</th>\n",
       "      <th></th>\n",
       "    </tr>\n",
       "  </thead>\n",
       "  <tbody>\n",
       "    <tr>\n",
       "      <th rowspan=\"5\" valign=\"top\">v1</th>\n",
       "      <th>2015-03</th>\n",
       "      <td>39</td>\n",
       "    </tr>\n",
       "    <tr>\n",
       "      <th>2015-04</th>\n",
       "      <td>79</td>\n",
       "    </tr>\n",
       "    <tr>\n",
       "      <th>2015-05</th>\n",
       "      <td>55</td>\n",
       "    </tr>\n",
       "    <tr>\n",
       "      <th>2015-06</th>\n",
       "      <td>36</td>\n",
       "    </tr>\n",
       "    <tr>\n",
       "      <th>2015-07</th>\n",
       "      <td>31</td>\n",
       "    </tr>\n",
       "  </tbody>\n",
       "</table>\n",
       "</div>"
      ],
      "text/plain": [
       "                     total_active_users\n",
       "app_version date                       \n",
       "v1          2015-03                  39\n",
       "            2015-04                  79\n",
       "            2015-05                  55\n",
       "            2015-06                  36\n",
       "            2015-07                  31"
      ]
     },
     "execution_count": 18,
     "metadata": {},
     "output_type": "execute_result"
    }
   ],
   "source": [
    "active_users_versions.head()"
   ]
  },
  {
   "cell_type": "code",
   "execution_count": 19,
   "metadata": {
    "collapsed": true
   },
   "outputs": [],
   "source": [
    "active_users_versions_2 = active_users_versions.unstack(level=0)"
   ]
  },
  {
   "cell_type": "code",
   "execution_count": 20,
   "metadata": {},
   "outputs": [
    {
     "data": {
      "text/html": [
       "<div>\n",
       "<style>\n",
       "    .dataframe thead tr:only-child th {\n",
       "        text-align: right;\n",
       "    }\n",
       "\n",
       "    .dataframe thead th {\n",
       "        text-align: left;\n",
       "    }\n",
       "\n",
       "    .dataframe tbody tr th {\n",
       "        vertical-align: top;\n",
       "    }\n",
       "</style>\n",
       "<table border=\"1\" class=\"dataframe\">\n",
       "  <thead>\n",
       "    <tr>\n",
       "      <th></th>\n",
       "      <th colspan=\"3\" halign=\"left\">total_active_users</th>\n",
       "    </tr>\n",
       "    <tr>\n",
       "      <th>app_version</th>\n",
       "      <th>v1</th>\n",
       "      <th>v2</th>\n",
       "      <th>v3</th>\n",
       "    </tr>\n",
       "    <tr>\n",
       "      <th>date</th>\n",
       "      <th></th>\n",
       "      <th></th>\n",
       "      <th></th>\n",
       "    </tr>\n",
       "  </thead>\n",
       "  <tbody>\n",
       "    <tr>\n",
       "      <th>2015-03</th>\n",
       "      <td>39.0</td>\n",
       "      <td>NaN</td>\n",
       "      <td>NaN</td>\n",
       "    </tr>\n",
       "    <tr>\n",
       "      <th>2015-04</th>\n",
       "      <td>79.0</td>\n",
       "      <td>NaN</td>\n",
       "      <td>NaN</td>\n",
       "    </tr>\n",
       "    <tr>\n",
       "      <th>2015-05</th>\n",
       "      <td>55.0</td>\n",
       "      <td>28.0</td>\n",
       "      <td>NaN</td>\n",
       "    </tr>\n",
       "    <tr>\n",
       "      <th>2015-06</th>\n",
       "      <td>36.0</td>\n",
       "      <td>78.0</td>\n",
       "      <td>NaN</td>\n",
       "    </tr>\n",
       "    <tr>\n",
       "      <th>2015-07</th>\n",
       "      <td>31.0</td>\n",
       "      <td>77.0</td>\n",
       "      <td>NaN</td>\n",
       "    </tr>\n",
       "  </tbody>\n",
       "</table>\n",
       "</div>"
      ],
      "text/plain": [
       "            total_active_users          \n",
       "app_version                 v1    v2  v3\n",
       "date                                    \n",
       "2015-03                   39.0   NaN NaN\n",
       "2015-04                   79.0   NaN NaN\n",
       "2015-05                   55.0  28.0 NaN\n",
       "2015-06                   36.0  78.0 NaN\n",
       "2015-07                   31.0  77.0 NaN"
      ]
     },
     "execution_count": 20,
     "metadata": {},
     "output_type": "execute_result"
    }
   ],
   "source": [
    "active_users_versions_2.head()"
   ]
  },
  {
   "cell_type": "code",
   "execution_count": 21,
   "metadata": {},
   "outputs": [
    {
     "data": {
      "image/png": "[encoded data removed]",
      "text/plain": [
       "<matplotlib.figure.Figure at 0x11b22fb00>"
      ]
     },
     "metadata": {},
     "output_type": "display_data"
    }
   ],
   "source": [
    "active_users_versions_2.plot(figsize=(19,5), kind='bar')\n",
    "plt.tight_layout()\n",
    "plt.savefig('05.png')\n",
    "plt.show()"
   ]
  },
  {
   "cell_type": "markdown",
   "metadata": {},
   "source": [
    "# Install Numbers"
   ]
  },
  {
   "cell_type": "code",
   "execution_count": 22,
   "metadata": {},
   "outputs": [
    {
     "data": {
      "text/html": [
       "<div>\n",
       "<style>\n",
       "    .dataframe thead tr:only-child th {\n",
       "        text-align: right;\n",
       "    }\n",
       "\n",
       "    .dataframe thead th {\n",
       "        text-align: left;\n",
       "    }\n",
       "\n",
       "    .dataframe tbody tr th {\n",
       "        vertical-align: top;\n",
       "    }\n",
       "</style>\n",
       "<table border=\"1\" class=\"dataframe\">\n",
       "  <thead>\n",
       "    <tr style=\"text-align: right;\">\n",
       "      <th></th>\n",
       "      <th>user_id</th>\n",
       "      <th>install_date</th>\n",
       "      <th>app_version</th>\n",
       "      <th>Unknown</th>\n",
       "      <th>v1</th>\n",
       "      <th>v2</th>\n",
       "      <th>v3</th>\n",
       "    </tr>\n",
       "  </thead>\n",
       "  <tbody>\n",
       "    <tr>\n",
       "      <th>0</th>\n",
       "      <td>000a0efdaf94f2a5a09ab0d03f92f5bf</td>\n",
       "      <td>2014-12-25</td>\n",
       "      <td>v1</td>\n",
       "      <td>0</td>\n",
       "      <td>1</td>\n",
       "      <td>0</td>\n",
       "      <td>0</td>\n",
       "    </tr>\n",
       "    <tr>\n",
       "      <th>1</th>\n",
       "      <td>0020cb805d63f036ad2c22dd8e76e368</td>\n",
       "      <td>2016-01-16</td>\n",
       "      <td>Unknown</td>\n",
       "      <td>1</td>\n",
       "      <td>0</td>\n",
       "      <td>0</td>\n",
       "      <td>0</td>\n",
       "    </tr>\n",
       "    <tr>\n",
       "      <th>2</th>\n",
       "      <td>002a9119a4b3dfb05e0159eee40576b6</td>\n",
       "      <td>2015-12-29</td>\n",
       "      <td>v2</td>\n",
       "      <td>0</td>\n",
       "      <td>0</td>\n",
       "      <td>1</td>\n",
       "      <td>0</td>\n",
       "    </tr>\n",
       "    <tr>\n",
       "      <th>3</th>\n",
       "      <td>0038c5018fb1c0c9d0dea9181a5a0834</td>\n",
       "      <td>2015-06-06</td>\n",
       "      <td>v2</td>\n",
       "      <td>0</td>\n",
       "      <td>0</td>\n",
       "      <td>1</td>\n",
       "      <td>0</td>\n",
       "    </tr>\n",
       "  </tbody>\n",
       "</table>\n",
       "</div>"
      ],
      "text/plain": [
       "                            user_id install_date app_version  Unknown  v1  v2  \\\n",
       "0  000a0efdaf94f2a5a09ab0d03f92f5bf   2014-12-25          v1        0   1   0   \n",
       "1  0020cb805d63f036ad2c22dd8e76e368   2016-01-16     Unknown        1   0   0   \n",
       "2  002a9119a4b3dfb05e0159eee40576b6   2015-12-29          v2        0   0   1   \n",
       "3  0038c5018fb1c0c9d0dea9181a5a0834   2015-06-06          v2        0   0   1   \n",
       "\n",
       "   v3  \n",
       "0   0  \n",
       "1   0  \n",
       "2   0  \n",
       "3   0  "
      ]
     },
     "execution_count": 22,
     "metadata": {},
     "output_type": "execute_result"
    }
   ],
   "source": [
    "version_dummies = pd.get_dummies(users['app_version'])\n",
    "version_counts = pd.concat([users, version_dummies],axis=1)\n",
    "version_counts.head(4)"
   ]
  },
  {
   "cell_type": "code",
   "execution_count": 23,
   "metadata": {},
   "outputs": [
    {
     "data": {
      "text/html": [
       "<div>\n",
       "<style>\n",
       "    .dataframe thead tr:only-child th {\n",
       "        text-align: right;\n",
       "    }\n",
       "\n",
       "    .dataframe thead th {\n",
       "        text-align: left;\n",
       "    }\n",
       "\n",
       "    .dataframe tbody tr th {\n",
       "        vertical-align: top;\n",
       "    }\n",
       "</style>\n",
       "<table border=\"1\" class=\"dataframe\">\n",
       "  <thead>\n",
       "    <tr style=\"text-align: right;\">\n",
       "      <th></th>\n",
       "      <th>Unknown</th>\n",
       "      <th>v1</th>\n",
       "      <th>v2</th>\n",
       "      <th>v3</th>\n",
       "      <th>total_install</th>\n",
       "    </tr>\n",
       "    <tr>\n",
       "      <th>install_date</th>\n",
       "      <th></th>\n",
       "      <th></th>\n",
       "      <th></th>\n",
       "      <th></th>\n",
       "      <th></th>\n",
       "    </tr>\n",
       "  </thead>\n",
       "  <tbody>\n",
       "    <tr>\n",
       "      <th>2016-05-10</th>\n",
       "      <td>0</td>\n",
       "      <td>0</td>\n",
       "      <td>3.0</td>\n",
       "      <td>0</td>\n",
       "      <td>3.0</td>\n",
       "    </tr>\n",
       "    <tr>\n",
       "      <th>2016-02-18</th>\n",
       "      <td>1</td>\n",
       "      <td>0</td>\n",
       "      <td>6.0</td>\n",
       "      <td>0</td>\n",
       "      <td>7.0</td>\n",
       "    </tr>\n",
       "    <tr>\n",
       "      <th>2016-07-27</th>\n",
       "      <td>0</td>\n",
       "      <td>0</td>\n",
       "      <td>0.0</td>\n",
       "      <td>1</td>\n",
       "      <td>1.0</td>\n",
       "    </tr>\n",
       "    <tr>\n",
       "      <th>2016-01-14</th>\n",
       "      <td>0</td>\n",
       "      <td>0</td>\n",
       "      <td>3.0</td>\n",
       "      <td>0</td>\n",
       "      <td>3.0</td>\n",
       "    </tr>\n",
       "  </tbody>\n",
       "</table>\n",
       "</div>"
      ],
      "text/plain": [
       "              Unknown  v1   v2  v3  total_install\n",
       "install_date                                     \n",
       "2016-05-10          0   0  3.0   0            3.0\n",
       "2016-02-18          1   0  6.0   0            7.0\n",
       "2016-07-27          0   0  0.0   1            1.0\n",
       "2016-01-14          0   0  3.0   0            3.0"
      ]
     },
     "execution_count": 23,
     "metadata": {},
     "output_type": "execute_result"
    }
   ],
   "source": [
    "install_counts = version_counts.groupby(['install_date']).agg({'Unknown' : 'sum', 'v1' : 'sum', 'v2' : 'sum', 'v3' : 'sum'})\n",
    "install_counts['total_install'] = install_counts.apply(lambda row: row.Unknown + row.v1 + row.v2 + row.v3, axis=1)\n",
    "install_counts.sample(4)"
   ]
  },
  {
   "cell_type": "code",
   "execution_count": 24,
   "metadata": {},
   "outputs": [
    {
     "data": {
      "text/html": [
       "<div>\n",
       "<style>\n",
       "    .dataframe thead tr:only-child th {\n",
       "        text-align: right;\n",
       "    }\n",
       "\n",
       "    .dataframe thead th {\n",
       "        text-align: left;\n",
       "    }\n",
       "\n",
       "    .dataframe tbody tr th {\n",
       "        vertical-align: top;\n",
       "    }\n",
       "</style>\n",
       "<table border=\"1\" class=\"dataframe\">\n",
       "  <thead>\n",
       "    <tr style=\"text-align: right;\">\n",
       "      <th></th>\n",
       "      <th>install_date</th>\n",
       "      <th>Unknown</th>\n",
       "      <th>v1</th>\n",
       "      <th>v2</th>\n",
       "      <th>v3</th>\n",
       "      <th>total_install</th>\n",
       "    </tr>\n",
       "  </thead>\n",
       "  <tbody>\n",
       "    <tr>\n",
       "      <th>0</th>\n",
       "      <td>2014-12</td>\n",
       "      <td>4.0</td>\n",
       "      <td>496.0</td>\n",
       "      <td>0.0</td>\n",
       "      <td>0.0</td>\n",
       "      <td>500.0</td>\n",
       "    </tr>\n",
       "    <tr>\n",
       "      <th>1</th>\n",
       "      <td>2015-01</td>\n",
       "      <td>3.0</td>\n",
       "      <td>197.0</td>\n",
       "      <td>0.0</td>\n",
       "      <td>0.0</td>\n",
       "      <td>200.0</td>\n",
       "    </tr>\n",
       "    <tr>\n",
       "      <th>2</th>\n",
       "      <td>2015-02</td>\n",
       "      <td>0.0</td>\n",
       "      <td>100.0</td>\n",
       "      <td>0.0</td>\n",
       "      <td>0.0</td>\n",
       "      <td>100.0</td>\n",
       "    </tr>\n",
       "    <tr>\n",
       "      <th>3</th>\n",
       "      <td>2015-03</td>\n",
       "      <td>1.0</td>\n",
       "      <td>99.0</td>\n",
       "      <td>0.0</td>\n",
       "      <td>0.0</td>\n",
       "      <td>100.0</td>\n",
       "    </tr>\n",
       "    <tr>\n",
       "      <th>4</th>\n",
       "      <td>2015-04</td>\n",
       "      <td>2.0</td>\n",
       "      <td>98.0</td>\n",
       "      <td>0.0</td>\n",
       "      <td>0.0</td>\n",
       "      <td>100.0</td>\n",
       "    </tr>\n",
       "  </tbody>\n",
       "</table>\n",
       "</div>"
      ],
      "text/plain": [
       "  install_date  Unknown     v1   v2   v3  total_install\n",
       "0      2014-12      4.0  496.0  0.0  0.0          500.0\n",
       "1      2015-01      3.0  197.0  0.0  0.0          200.0\n",
       "2      2015-02      0.0  100.0  0.0  0.0          100.0\n",
       "3      2015-03      1.0   99.0  0.0  0.0          100.0\n",
       "4      2015-04      2.0   98.0  0.0  0.0          100.0"
      ]
     },
     "execution_count": 24,
     "metadata": {},
     "output_type": "execute_result"
    }
   ],
   "source": [
    "install_counts = install_counts.reset_index()\n",
    "monthly_install = install_counts.resample('M', on='install_date').sum()\n",
    "monthly_install = monthly_install.reset_index()\n",
    "monthly_install['install_date'] = monthly_install['install_date'].apply(lambda x: x.strftime('%Y-%m'))\n",
    "monthly_install.head()"
   ]
  },
  {
   "cell_type": "code",
   "execution_count": 25,
   "metadata": {
    "collapsed": true
   },
   "outputs": [],
   "source": [
    "monthly_install_cum = monthly_install[['install_date','total_install']]\n",
    "monthly_install_cum = monthly_install_cum.set_index('install_date')"
   ]
  },
  {
   "cell_type": "code",
   "execution_count": 26,
   "metadata": {
    "collapsed": true
   },
   "outputs": [],
   "source": [
    "monthly_install_cum = monthly_install_cum.cumsum()"
   ]
  },
  {
   "cell_type": "code",
   "execution_count": 27,
   "metadata": {},
   "outputs": [
    {
     "data": {
      "text/html": [
       "<div>\n",
       "<style>\n",
       "    .dataframe thead tr:only-child th {\n",
       "        text-align: right;\n",
       "    }\n",
       "\n",
       "    .dataframe thead th {\n",
       "        text-align: left;\n",
       "    }\n",
       "\n",
       "    .dataframe tbody tr th {\n",
       "        vertical-align: top;\n",
       "    }\n",
       "</style>\n",
       "<table border=\"1\" class=\"dataframe\">\n",
       "  <thead>\n",
       "    <tr style=\"text-align: right;\">\n",
       "      <th></th>\n",
       "      <th>install_date</th>\n",
       "      <th>total_install</th>\n",
       "    </tr>\n",
       "  </thead>\n",
       "  <tbody>\n",
       "    <tr>\n",
       "      <th>0</th>\n",
       "      <td>2014-12</td>\n",
       "      <td>500.0</td>\n",
       "    </tr>\n",
       "    <tr>\n",
       "      <th>1</th>\n",
       "      <td>2015-01</td>\n",
       "      <td>700.0</td>\n",
       "    </tr>\n",
       "    <tr>\n",
       "      <th>2</th>\n",
       "      <td>2015-02</td>\n",
       "      <td>800.0</td>\n",
       "    </tr>\n",
       "    <tr>\n",
       "      <th>3</th>\n",
       "      <td>2015-03</td>\n",
       "      <td>900.0</td>\n",
       "    </tr>\n",
       "    <tr>\n",
       "      <th>4</th>\n",
       "      <td>2015-04</td>\n",
       "      <td>1000.0</td>\n",
       "    </tr>\n",
       "  </tbody>\n",
       "</table>\n",
       "</div>"
      ],
      "text/plain": [
       "  install_date  total_install\n",
       "0      2014-12          500.0\n",
       "1      2015-01          700.0\n",
       "2      2015-02          800.0\n",
       "3      2015-03          900.0\n",
       "4      2015-04         1000.0"
      ]
     },
     "execution_count": 27,
     "metadata": {},
     "output_type": "execute_result"
    }
   ],
   "source": [
    "monthly_install_cum = monthly_install_cum.reset_index()\n",
    "monthly_install_cum.head()"
   ]
  },
  {
   "cell_type": "code",
   "execution_count": 28,
   "metadata": {},
   "outputs": [
    {
     "data": {
      "image/png": "[encoded data removed]",
      "text/plain": [
       "<matplotlib.figure.Figure at 0x11795a588>"
      ]
     },
     "metadata": {},
     "output_type": "display_data"
    }
   ],
   "source": [
    "monthly_install_cum.plot('install_date','total_install', figsize=(19,5), kind='bar' )\n",
    "plt.tight_layout()\n",
    "plt.savefig('06.png')\n",
    "plt.show()"
   ]
  },
  {
   "cell_type": "code",
   "execution_count": 29,
   "metadata": {},
   "outputs": [
    {
     "data": {
      "image/png": "[encoded data removed]",
      "text/plain": [
       "<matplotlib.figure.Figure at 0x117a2f7f0>"
      ]
     },
     "metadata": {},
     "output_type": "display_data"
    }
   ],
   "source": [
    "monthly_install.plot('install_date','total_install', figsize=(19,5), kind='bar')\n",
    "plt.tight_layout()\n",
    "plt.savefig('07.png')\n",
    "plt.show()"
   ]
  },
  {
   "cell_type": "code",
   "execution_count": 30,
   "metadata": {},
   "outputs": [
    {
     "data": {
      "image/png": "[encoded data removed]",
      "text/plain": [
       "<matplotlib.figure.Figure at 0x11afd0fd0>"
      ]
     },
     "metadata": {},
     "output_type": "display_data"
    }
   ],
   "source": [
    "monthly_install.plot('install_date',['Unknown','v1','v2','v3','total_install'], figsize=(19,5), kind='bar')\n",
    "plt.tight_layout()\n",
    "plt.savefig('08.png')\n",
    "plt.show()"
   ]
  },
  {
   "cell_type": "markdown",
   "metadata": {},
   "source": [
    "# Cohort Analysis for Retention"
   ]
  },
  {
   "cell_type": "code",
   "execution_count": 31,
   "metadata": {
    "collapsed": true
   },
   "outputs": [],
   "source": [
    "events_5 = events_2.copy()"
   ]
  },
  {
   "cell_type": "code",
   "execution_count": 32,
   "metadata": {},
   "outputs": [
    {
     "data": {
      "text/html": [
       "<div>\n",
       "<style>\n",
       "    .dataframe thead tr:only-child th {\n",
       "        text-align: right;\n",
       "    }\n",
       "\n",
       "    .dataframe thead th {\n",
       "        text-align: left;\n",
       "    }\n",
       "\n",
       "    .dataframe tbody tr th {\n",
       "        vertical-align: top;\n",
       "    }\n",
       "</style>\n",
       "<table border=\"1\" class=\"dataframe\">\n",
       "  <thead>\n",
       "    <tr style=\"text-align: right;\">\n",
       "      <th></th>\n",
       "      <th>user_id</th>\n",
       "      <th>user_session_id</th>\n",
       "      <th>event_timestamp</th>\n",
       "      <th>app</th>\n",
       "      <th>time_min</th>\n",
       "      <th>install_date</th>\n",
       "      <th>app_version</th>\n",
       "      <th>event_period</th>\n",
       "      <th>cohort_group</th>\n",
       "    </tr>\n",
       "  </thead>\n",
       "  <tbody>\n",
       "    <tr>\n",
       "      <th>8573</th>\n",
       "      <td>a05f785dc6aa73acd6f7e450e08152da</td>\n",
       "      <td>4fb1be14f5c4aaaf48a2e4048d42fcbb</td>\n",
       "      <td>2015-12-31 19:06:06</td>\n",
       "      <td>build</td>\n",
       "      <td>19.933333</td>\n",
       "      <td>2015-12-31</td>\n",
       "      <td>v2</td>\n",
       "      <td>2015-12</td>\n",
       "      <td>2015-12</td>\n",
       "    </tr>\n",
       "    <tr>\n",
       "      <th>2577</th>\n",
       "      <td>9246531b801de242bc837ae3985f6048</td>\n",
       "      <td>4f6ec0362f57415724f61e451478e657</td>\n",
       "      <td>2015-10-12 23:24:23</td>\n",
       "      <td>build</td>\n",
       "      <td>2.033333</td>\n",
       "      <td>2015-09-19</td>\n",
       "      <td>v2</td>\n",
       "      <td>2015-10</td>\n",
       "      <td>2015-09</td>\n",
       "    </tr>\n",
       "    <tr>\n",
       "      <th>23813</th>\n",
       "      <td>6fd9c8eb8a16f615eca66fda8810bd75</td>\n",
       "      <td>d44b531b5d795eaab6bf1f2974140f28</td>\n",
       "      <td>2015-11-07 20:17:33</td>\n",
       "      <td>draw</td>\n",
       "      <td>9.166667</td>\n",
       "      <td>2015-10-24</td>\n",
       "      <td>v2</td>\n",
       "      <td>2015-11</td>\n",
       "      <td>2015-10</td>\n",
       "    </tr>\n",
       "  </tbody>\n",
       "</table>\n",
       "</div>"
      ],
      "text/plain": [
       "                                user_id                   user_session_id  \\\n",
       "8573   a05f785dc6aa73acd6f7e450e08152da  4fb1be14f5c4aaaf48a2e4048d42fcbb   \n",
       "2577   9246531b801de242bc837ae3985f6048  4f6ec0362f57415724f61e451478e657   \n",
       "23813  6fd9c8eb8a16f615eca66fda8810bd75  d44b531b5d795eaab6bf1f2974140f28   \n",
       "\n",
       "          event_timestamp    app   time_min install_date app_version  \\\n",
       "8573  2015-12-31 19:06:06  build  19.933333   2015-12-31          v2   \n",
       "2577  2015-10-12 23:24:23  build   2.033333   2015-09-19          v2   \n",
       "23813 2015-11-07 20:17:33   draw   9.166667   2015-10-24          v2   \n",
       "\n",
       "      event_period cohort_group  \n",
       "8573       2015-12      2015-12  \n",
       "2577       2015-10      2015-09  \n",
       "23813      2015-11      2015-10  "
      ]
     },
     "execution_count": 32,
     "metadata": {},
     "output_type": "execute_result"
    }
   ],
   "source": [
    "# I will take the first event date as the first actions of users\n",
    "events_5['event_period'] = events_5.event_timestamp.apply(lambda x: x.strftime('%Y-%m'))\n",
    "events_5.set_index('user_id', inplace=True)\n",
    "events_5['cohort_group'] = events_5.groupby(level=0)['event_timestamp'].min().apply(lambda x: x.strftime('%Y-%m'))\n",
    "events_5.reset_index(inplace=True)\n",
    "events_5.sample(3)"
   ]
  },
  {
   "cell_type": "code",
   "execution_count": 33,
   "metadata": {
    "collapsed": true
   },
   "outputs": [],
   "source": [
    "grouped_df = events_5.groupby(['cohort_group', 'event_period'])\n",
    "cohorts = grouped_df.agg({'user_id': pd.Series.nunique,\n",
    "                       'user_session_id': pd.Series.nunique,\n",
    "                       'time_min': np.sum})\n",
    "cohorts.rename(columns={'user_id': 'total_users',\n",
    "                        'user_session_id': 'total_sessions'}, inplace=True)"
   ]
  },
  {
   "cell_type": "code",
   "execution_count": 34,
   "metadata": {},
   "outputs": [
    {
     "data": {
      "text/html": [
       "<div>\n",
       "<style>\n",
       "    .dataframe thead tr:only-child th {\n",
       "        text-align: right;\n",
       "    }\n",
       "\n",
       "    .dataframe thead th {\n",
       "        text-align: left;\n",
       "    }\n",
       "\n",
       "    .dataframe tbody tr th {\n",
       "        vertical-align: top;\n",
       "    }\n",
       "</style>\n",
       "<table border=\"1\" class=\"dataframe\">\n",
       "  <thead>\n",
       "    <tr style=\"text-align: right;\">\n",
       "      <th></th>\n",
       "      <th></th>\n",
       "      <th>total_users</th>\n",
       "      <th>total_sessions</th>\n",
       "      <th>time_min</th>\n",
       "      <th>cohort_period</th>\n",
       "    </tr>\n",
       "    <tr>\n",
       "      <th>cohort_group</th>\n",
       "      <th>event_period</th>\n",
       "      <th></th>\n",
       "      <th></th>\n",
       "      <th></th>\n",
       "      <th></th>\n",
       "    </tr>\n",
       "  </thead>\n",
       "  <tbody>\n",
       "    <tr>\n",
       "      <th rowspan=\"3\" valign=\"top\">2015-03</th>\n",
       "      <th>2015-03</th>\n",
       "      <td>39</td>\n",
       "      <td>60</td>\n",
       "      <td>1044.400000</td>\n",
       "      <td>1</td>\n",
       "    </tr>\n",
       "    <tr>\n",
       "      <th>2015-04</th>\n",
       "      <td>14</td>\n",
       "      <td>22</td>\n",
       "      <td>352.966667</td>\n",
       "      <td>2</td>\n",
       "    </tr>\n",
       "    <tr>\n",
       "      <th>2015-05</th>\n",
       "      <td>8</td>\n",
       "      <td>16</td>\n",
       "      <td>450.766667</td>\n",
       "      <td>3</td>\n",
       "    </tr>\n",
       "  </tbody>\n",
       "</table>\n",
       "</div>"
      ],
      "text/plain": [
       "                           total_users  total_sessions     time_min  \\\n",
       "cohort_group event_period                                             \n",
       "2015-03      2015-03                39              60  1044.400000   \n",
       "             2015-04                14              22   352.966667   \n",
       "             2015-05                 8              16   450.766667   \n",
       "\n",
       "                           cohort_period  \n",
       "cohort_group event_period                 \n",
       "2015-03      2015-03                   1  \n",
       "             2015-04                   2  \n",
       "             2015-05                   3  "
      ]
     },
     "execution_count": 34,
     "metadata": {},
     "output_type": "execute_result"
    }
   ],
   "source": [
    "def cohort_period(df):\n",
    "    df['cohort_period'] = np.arange(len(df)) + 1\n",
    "    return df\n",
    "\n",
    "cohorts = cohorts.groupby(level=0).apply(cohort_period)\n",
    "cohorts.head(3)"
   ]
  },
  {
   "cell_type": "code",
   "execution_count": 35,
   "metadata": {},
   "outputs": [
    {
     "data": {
      "text/plain": [
       "cohort_group\n",
       "2015-03    39\n",
       "2015-04    65\n",
       "2015-05    54\n",
       "2015-06    74\n",
       "2015-07    73\n",
       "Name: total_users, dtype: int64"
      ]
     },
     "execution_count": 35,
     "metadata": {},
     "output_type": "execute_result"
    }
   ],
   "source": [
    "cohorts.reset_index(inplace=True)\n",
    "cohorts.set_index(['cohort_group','cohort_period'], inplace=True)\n",
    "\n",
    "# Learn cohort group sizes\n",
    "group_sizes = cohorts['total_users'].groupby(level=0).first()\n",
    "group_sizes.head()"
   ]
  },
  {
   "cell_type": "code",
   "execution_count": 36,
   "metadata": {},
   "outputs": [
    {
     "data": {
      "text/plain": [
       "cohort_group  cohort_period\n",
       "2015-03       1                39\n",
       "              2                14\n",
       "              3                 8\n",
       "              4                 7\n",
       "              5                 3\n",
       "Name: total_users, dtype: int64"
      ]
     },
     "execution_count": 36,
     "metadata": {},
     "output_type": "execute_result"
    }
   ],
   "source": [
    "cohorts.total_users.head()"
   ]
  },
  {
   "cell_type": "code",
   "execution_count": 37,
   "metadata": {},
   "outputs": [
    {
     "data": {
      "text/html": [
       "<div>\n",
       "<style>\n",
       "    .dataframe thead tr:only-child th {\n",
       "        text-align: right;\n",
       "    }\n",
       "\n",
       "    .dataframe thead th {\n",
       "        text-align: left;\n",
       "    }\n",
       "\n",
       "    .dataframe tbody tr th {\n",
       "        vertical-align: top;\n",
       "    }\n",
       "</style>\n",
       "<table border=\"1\" class=\"dataframe\">\n",
       "  <thead>\n",
       "    <tr style=\"text-align: right;\">\n",
       "      <th>cohort_group</th>\n",
       "      <th>2015-03</th>\n",
       "      <th>2015-04</th>\n",
       "      <th>2015-05</th>\n",
       "      <th>2015-06</th>\n",
       "      <th>2015-07</th>\n",
       "      <th>2015-08</th>\n",
       "      <th>2015-09</th>\n",
       "      <th>2015-10</th>\n",
       "      <th>2015-11</th>\n",
       "      <th>2015-12</th>\n",
       "      <th>2016-01</th>\n",
       "      <th>2016-02</th>\n",
       "      <th>2016-03</th>\n",
       "      <th>2016-04</th>\n",
       "      <th>2016-05</th>\n",
       "      <th>2016-06</th>\n",
       "      <th>2016-07</th>\n",
       "      <th>2016-08</th>\n",
       "      <th>2016-09</th>\n",
       "      <th>2016-10</th>\n",
       "    </tr>\n",
       "    <tr>\n",
       "      <th>cohort_period</th>\n",
       "      <th></th>\n",
       "      <th></th>\n",
       "      <th></th>\n",
       "      <th></th>\n",
       "      <th></th>\n",
       "      <th></th>\n",
       "      <th></th>\n",
       "      <th></th>\n",
       "      <th></th>\n",
       "      <th></th>\n",
       "      <th></th>\n",
       "      <th></th>\n",
       "      <th></th>\n",
       "      <th></th>\n",
       "      <th></th>\n",
       "      <th></th>\n",
       "      <th></th>\n",
       "      <th></th>\n",
       "      <th></th>\n",
       "      <th></th>\n",
       "    </tr>\n",
       "  </thead>\n",
       "  <tbody>\n",
       "    <tr>\n",
       "      <th>1</th>\n",
       "      <td>39.0</td>\n",
       "      <td>65.0</td>\n",
       "      <td>54.0</td>\n",
       "      <td>74.0</td>\n",
       "      <td>73.0</td>\n",
       "      <td>61.0</td>\n",
       "      <td>55.0</td>\n",
       "      <td>73.0</td>\n",
       "      <td>79.0</td>\n",
       "      <td>776.0</td>\n",
       "      <td>389.0</td>\n",
       "      <td>151.0</td>\n",
       "      <td>62.0</td>\n",
       "      <td>83.0</td>\n",
       "      <td>59.0</td>\n",
       "      <td>68.0</td>\n",
       "      <td>70.0</td>\n",
       "      <td>5.0</td>\n",
       "      <td>6.0</td>\n",
       "      <td>1.0</td>\n",
       "    </tr>\n",
       "    <tr>\n",
       "      <th>2</th>\n",
       "      <td>14.0</td>\n",
       "      <td>21.0</td>\n",
       "      <td>26.0</td>\n",
       "      <td>14.0</td>\n",
       "      <td>22.0</td>\n",
       "      <td>16.0</td>\n",
       "      <td>17.0</td>\n",
       "      <td>19.0</td>\n",
       "      <td>30.0</td>\n",
       "      <td>374.0</td>\n",
       "      <td>110.0</td>\n",
       "      <td>35.0</td>\n",
       "      <td>30.0</td>\n",
       "      <td>29.0</td>\n",
       "      <td>7.0</td>\n",
       "      <td>23.0</td>\n",
       "      <td>21.0</td>\n",
       "      <td>1.0</td>\n",
       "      <td>NaN</td>\n",
       "      <td>NaN</td>\n",
       "    </tr>\n",
       "    <tr>\n",
       "      <th>3</th>\n",
       "      <td>8.0</td>\n",
       "      <td>7.0</td>\n",
       "      <td>13.0</td>\n",
       "      <td>9.0</td>\n",
       "      <td>10.0</td>\n",
       "      <td>11.0</td>\n",
       "      <td>10.0</td>\n",
       "      <td>13.0</td>\n",
       "      <td>13.0</td>\n",
       "      <td>204.0</td>\n",
       "      <td>71.0</td>\n",
       "      <td>25.0</td>\n",
       "      <td>13.0</td>\n",
       "      <td>13.0</td>\n",
       "      <td>7.0</td>\n",
       "      <td>12.0</td>\n",
       "      <td>9.0</td>\n",
       "      <td>NaN</td>\n",
       "      <td>NaN</td>\n",
       "      <td>NaN</td>\n",
       "    </tr>\n",
       "    <tr>\n",
       "      <th>4</th>\n",
       "      <td>7.0</td>\n",
       "      <td>5.0</td>\n",
       "      <td>8.0</td>\n",
       "      <td>12.0</td>\n",
       "      <td>7.0</td>\n",
       "      <td>6.0</td>\n",
       "      <td>9.0</td>\n",
       "      <td>11.0</td>\n",
       "      <td>11.0</td>\n",
       "      <td>128.0</td>\n",
       "      <td>63.0</td>\n",
       "      <td>24.0</td>\n",
       "      <td>8.0</td>\n",
       "      <td>10.0</td>\n",
       "      <td>5.0</td>\n",
       "      <td>9.0</td>\n",
       "      <td>4.0</td>\n",
       "      <td>NaN</td>\n",
       "      <td>NaN</td>\n",
       "      <td>NaN</td>\n",
       "    </tr>\n",
       "    <tr>\n",
       "      <th>5</th>\n",
       "      <td>3.0</td>\n",
       "      <td>6.0</td>\n",
       "      <td>10.0</td>\n",
       "      <td>11.0</td>\n",
       "      <td>5.0</td>\n",
       "      <td>3.0</td>\n",
       "      <td>6.0</td>\n",
       "      <td>7.0</td>\n",
       "      <td>10.0</td>\n",
       "      <td>118.0</td>\n",
       "      <td>54.0</td>\n",
       "      <td>10.0</td>\n",
       "      <td>3.0</td>\n",
       "      <td>11.0</td>\n",
       "      <td>4.0</td>\n",
       "      <td>4.0</td>\n",
       "      <td>NaN</td>\n",
       "      <td>NaN</td>\n",
       "      <td>NaN</td>\n",
       "      <td>NaN</td>\n",
       "    </tr>\n",
       "  </tbody>\n",
       "</table>\n",
       "</div>"
      ],
      "text/plain": [
       "cohort_group   2015-03  2015-04  2015-05  2015-06  2015-07  2015-08  2015-09  \\\n",
       "cohort_period                                                                  \n",
       "1                 39.0     65.0     54.0     74.0     73.0     61.0     55.0   \n",
       "2                 14.0     21.0     26.0     14.0     22.0     16.0     17.0   \n",
       "3                  8.0      7.0     13.0      9.0     10.0     11.0     10.0   \n",
       "4                  7.0      5.0      8.0     12.0      7.0      6.0      9.0   \n",
       "5                  3.0      6.0     10.0     11.0      5.0      3.0      6.0   \n",
       "\n",
       "cohort_group   2015-10  2015-11  2015-12  2016-01  2016-02  2016-03  2016-04  \\\n",
       "cohort_period                                                                  \n",
       "1                 73.0     79.0    776.0    389.0    151.0     62.0     83.0   \n",
       "2                 19.0     30.0    374.0    110.0     35.0     30.0     29.0   \n",
       "3                 13.0     13.0    204.0     71.0     25.0     13.0     13.0   \n",
       "4                 11.0     11.0    128.0     63.0     24.0      8.0     10.0   \n",
       "5                  7.0     10.0    118.0     54.0     10.0      3.0     11.0   \n",
       "\n",
       "cohort_group   2016-05  2016-06  2016-07  2016-08  2016-09  2016-10  \n",
       "cohort_period                                                        \n",
       "1                 59.0     68.0     70.0      5.0      6.0      1.0  \n",
       "2                  7.0     23.0     21.0      1.0      NaN      NaN  \n",
       "3                  7.0     12.0      9.0      NaN      NaN      NaN  \n",
       "4                  5.0      9.0      4.0      NaN      NaN      NaN  \n",
       "5                  4.0      4.0      NaN      NaN      NaN      NaN  "
      ]
     },
     "execution_count": 37,
     "metadata": {},
     "output_type": "execute_result"
    }
   ],
   "source": [
    "cohorts.total_users.unstack(0).head()"
   ]
  },
  {
   "cell_type": "code",
   "execution_count": 38,
   "metadata": {},
   "outputs": [
    {
     "data": {
      "text/html": [
       "<div>\n",
       "<style>\n",
       "    .dataframe thead tr:only-child th {\n",
       "        text-align: right;\n",
       "    }\n",
       "\n",
       "    .dataframe thead th {\n",
       "        text-align: left;\n",
       "    }\n",
       "\n",
       "    .dataframe tbody tr th {\n",
       "        vertical-align: top;\n",
       "    }\n",
       "</style>\n",
       "<table border=\"1\" class=\"dataframe\">\n",
       "  <thead>\n",
       "    <tr style=\"text-align: right;\">\n",
       "      <th>cohort_group</th>\n",
       "      <th>2015-03</th>\n",
       "      <th>2015-04</th>\n",
       "      <th>2015-05</th>\n",
       "      <th>2015-06</th>\n",
       "      <th>2015-07</th>\n",
       "      <th>2015-08</th>\n",
       "      <th>2015-09</th>\n",
       "      <th>2015-10</th>\n",
       "      <th>2015-11</th>\n",
       "      <th>2015-12</th>\n",
       "      <th>2016-01</th>\n",
       "      <th>2016-02</th>\n",
       "      <th>2016-03</th>\n",
       "      <th>2016-04</th>\n",
       "      <th>2016-05</th>\n",
       "      <th>2016-06</th>\n",
       "      <th>2016-07</th>\n",
       "      <th>2016-08</th>\n",
       "      <th>2016-09</th>\n",
       "      <th>2016-10</th>\n",
       "    </tr>\n",
       "    <tr>\n",
       "      <th>cohort_period</th>\n",
       "      <th></th>\n",
       "      <th></th>\n",
       "      <th></th>\n",
       "      <th></th>\n",
       "      <th></th>\n",
       "      <th></th>\n",
       "      <th></th>\n",
       "      <th></th>\n",
       "      <th></th>\n",
       "      <th></th>\n",
       "      <th></th>\n",
       "      <th></th>\n",
       "      <th></th>\n",
       "      <th></th>\n",
       "      <th></th>\n",
       "      <th></th>\n",
       "      <th></th>\n",
       "      <th></th>\n",
       "      <th></th>\n",
       "      <th></th>\n",
       "    </tr>\n",
       "  </thead>\n",
       "  <tbody>\n",
       "    <tr>\n",
       "      <th>1</th>\n",
       "      <td>1.000000</td>\n",
       "      <td>1.000000</td>\n",
       "      <td>1.000000</td>\n",
       "      <td>1.000000</td>\n",
       "      <td>1.000000</td>\n",
       "      <td>1.000000</td>\n",
       "      <td>1.000000</td>\n",
       "      <td>1.000000</td>\n",
       "      <td>1.000000</td>\n",
       "      <td>1.000000</td>\n",
       "      <td>1.000000</td>\n",
       "      <td>1.000000</td>\n",
       "      <td>1.000000</td>\n",
       "      <td>1.000000</td>\n",
       "      <td>1.000000</td>\n",
       "      <td>1.000000</td>\n",
       "      <td>1.000000</td>\n",
       "      <td>1.0</td>\n",
       "      <td>1.0</td>\n",
       "      <td>1.0</td>\n",
       "    </tr>\n",
       "    <tr>\n",
       "      <th>2</th>\n",
       "      <td>0.358974</td>\n",
       "      <td>0.323077</td>\n",
       "      <td>0.481481</td>\n",
       "      <td>0.189189</td>\n",
       "      <td>0.301370</td>\n",
       "      <td>0.262295</td>\n",
       "      <td>0.309091</td>\n",
       "      <td>0.260274</td>\n",
       "      <td>0.379747</td>\n",
       "      <td>0.481959</td>\n",
       "      <td>0.282776</td>\n",
       "      <td>0.231788</td>\n",
       "      <td>0.483871</td>\n",
       "      <td>0.349398</td>\n",
       "      <td>0.118644</td>\n",
       "      <td>0.338235</td>\n",
       "      <td>0.300000</td>\n",
       "      <td>0.2</td>\n",
       "      <td>NaN</td>\n",
       "      <td>NaN</td>\n",
       "    </tr>\n",
       "    <tr>\n",
       "      <th>3</th>\n",
       "      <td>0.205128</td>\n",
       "      <td>0.107692</td>\n",
       "      <td>0.240741</td>\n",
       "      <td>0.121622</td>\n",
       "      <td>0.136986</td>\n",
       "      <td>0.180328</td>\n",
       "      <td>0.181818</td>\n",
       "      <td>0.178082</td>\n",
       "      <td>0.164557</td>\n",
       "      <td>0.262887</td>\n",
       "      <td>0.182519</td>\n",
       "      <td>0.165563</td>\n",
       "      <td>0.209677</td>\n",
       "      <td>0.156627</td>\n",
       "      <td>0.118644</td>\n",
       "      <td>0.176471</td>\n",
       "      <td>0.128571</td>\n",
       "      <td>NaN</td>\n",
       "      <td>NaN</td>\n",
       "      <td>NaN</td>\n",
       "    </tr>\n",
       "    <tr>\n",
       "      <th>4</th>\n",
       "      <td>0.179487</td>\n",
       "      <td>0.076923</td>\n",
       "      <td>0.148148</td>\n",
       "      <td>0.162162</td>\n",
       "      <td>0.095890</td>\n",
       "      <td>0.098361</td>\n",
       "      <td>0.163636</td>\n",
       "      <td>0.150685</td>\n",
       "      <td>0.139241</td>\n",
       "      <td>0.164948</td>\n",
       "      <td>0.161954</td>\n",
       "      <td>0.158940</td>\n",
       "      <td>0.129032</td>\n",
       "      <td>0.120482</td>\n",
       "      <td>0.084746</td>\n",
       "      <td>0.132353</td>\n",
       "      <td>0.057143</td>\n",
       "      <td>NaN</td>\n",
       "      <td>NaN</td>\n",
       "      <td>NaN</td>\n",
       "    </tr>\n",
       "    <tr>\n",
       "      <th>5</th>\n",
       "      <td>0.076923</td>\n",
       "      <td>0.092308</td>\n",
       "      <td>0.185185</td>\n",
       "      <td>0.148649</td>\n",
       "      <td>0.068493</td>\n",
       "      <td>0.049180</td>\n",
       "      <td>0.109091</td>\n",
       "      <td>0.095890</td>\n",
       "      <td>0.126582</td>\n",
       "      <td>0.152062</td>\n",
       "      <td>0.138817</td>\n",
       "      <td>0.066225</td>\n",
       "      <td>0.048387</td>\n",
       "      <td>0.132530</td>\n",
       "      <td>0.067797</td>\n",
       "      <td>0.058824</td>\n",
       "      <td>NaN</td>\n",
       "      <td>NaN</td>\n",
       "      <td>NaN</td>\n",
       "      <td>NaN</td>\n",
       "    </tr>\n",
       "  </tbody>\n",
       "</table>\n",
       "</div>"
      ],
      "text/plain": [
       "cohort_group    2015-03   2015-04   2015-05   2015-06   2015-07   2015-08  \\\n",
       "cohort_period                                                               \n",
       "1              1.000000  1.000000  1.000000  1.000000  1.000000  1.000000   \n",
       "2              0.358974  0.323077  0.481481  0.189189  0.301370  0.262295   \n",
       "3              0.205128  0.107692  0.240741  0.121622  0.136986  0.180328   \n",
       "4              0.179487  0.076923  0.148148  0.162162  0.095890  0.098361   \n",
       "5              0.076923  0.092308  0.185185  0.148649  0.068493  0.049180   \n",
       "\n",
       "cohort_group    2015-09   2015-10   2015-11   2015-12   2016-01   2016-02  \\\n",
       "cohort_period                                                               \n",
       "1              1.000000  1.000000  1.000000  1.000000  1.000000  1.000000   \n",
       "2              0.309091  0.260274  0.379747  0.481959  0.282776  0.231788   \n",
       "3              0.181818  0.178082  0.164557  0.262887  0.182519  0.165563   \n",
       "4              0.163636  0.150685  0.139241  0.164948  0.161954  0.158940   \n",
       "5              0.109091  0.095890  0.126582  0.152062  0.138817  0.066225   \n",
       "\n",
       "cohort_group    2016-03   2016-04   2016-05   2016-06   2016-07  2016-08  \\\n",
       "cohort_period                                                              \n",
       "1              1.000000  1.000000  1.000000  1.000000  1.000000      1.0   \n",
       "2              0.483871  0.349398  0.118644  0.338235  0.300000      0.2   \n",
       "3              0.209677  0.156627  0.118644  0.176471  0.128571      NaN   \n",
       "4              0.129032  0.120482  0.084746  0.132353  0.057143      NaN   \n",
       "5              0.048387  0.132530  0.067797  0.058824       NaN      NaN   \n",
       "\n",
       "cohort_group   2016-09  2016-10  \n",
       "cohort_period                    \n",
       "1                  1.0      1.0  \n",
       "2                  NaN      NaN  \n",
       "3                  NaN      NaN  \n",
       "4                  NaN      NaN  \n",
       "5                  NaN      NaN  "
      ]
     },
     "execution_count": 38,
     "metadata": {},
     "output_type": "execute_result"
    }
   ],
   "source": [
    "retentions = cohorts.total_users.unstack(0).divide(group_sizes, axis=1)\n",
    "retentions.head()"
   ]
  },
  {
   "cell_type": "code",
   "execution_count": 39,
   "metadata": {},
   "outputs": [
    {
     "data": {
      "image/png": "[encoded data removed]",
      "text/plain": [
       "<matplotlib.figure.Figure at 0x114cd78d0>"
      ]
     },
     "metadata": {},
     "output_type": "display_data"
    }
   ],
   "source": [
    "plt.figure(figsize=(15, 8))\n",
    "plt.title('Cohorts: User Retention(monthly)')\n",
    "sns.heatmap(retentions.T, mask=retentions.T.isnull(), annot=True, fmt='.0%', cmap=\"Blues\")\n",
    "plt.savefig('09.png')\n",
    "plt.show()"
   ]
  },
  {
   "cell_type": "markdown",
   "metadata": {},
   "source": [
    "# Time in Application"
   ]
  },
  {
   "cell_type": "code",
   "execution_count": 40,
   "metadata": {},
   "outputs": [
    {
     "data": {
      "text/html": [
       "<div>\n",
       "<style>\n",
       "    .dataframe thead tr:only-child th {\n",
       "        text-align: right;\n",
       "    }\n",
       "\n",
       "    .dataframe thead th {\n",
       "        text-align: left;\n",
       "    }\n",
       "\n",
       "    .dataframe tbody tr th {\n",
       "        vertical-align: top;\n",
       "    }\n",
       "</style>\n",
       "<table border=\"1\" class=\"dataframe\">\n",
       "  <thead>\n",
       "    <tr style=\"text-align: right;\">\n",
       "      <th></th>\n",
       "      <th>user_id</th>\n",
       "      <th>user_session_id</th>\n",
       "      <th>event_timestamp</th>\n",
       "      <th>app</th>\n",
       "      <th>time_min</th>\n",
       "      <th>install_date</th>\n",
       "      <th>app_version</th>\n",
       "      <th>date</th>\n",
       "    </tr>\n",
       "  </thead>\n",
       "  <tbody>\n",
       "    <tr>\n",
       "      <th>0</th>\n",
       "      <td>02fd5305cce536a1940aea0818ba7a3d</td>\n",
       "      <td>6690452e89aa62cdfa818d1f469aaf37</td>\n",
       "      <td>2015-03-22 00:08:12</td>\n",
       "      <td>build</td>\n",
       "      <td>1.116667</td>\n",
       "      <td>2015-03-21</td>\n",
       "      <td>v1</td>\n",
       "      <td>2015-03</td>\n",
       "    </tr>\n",
       "    <tr>\n",
       "      <th>1</th>\n",
       "      <td>955ef0ba3e7de00197f2ab6828cb4d05</td>\n",
       "      <td>af2d613e4e5695fd4d8610a0086de760</td>\n",
       "      <td>2015-03-22 20:56:29</td>\n",
       "      <td>build</td>\n",
       "      <td>4.616667</td>\n",
       "      <td>2015-01-26</td>\n",
       "      <td>v1</td>\n",
       "      <td>2015-03</td>\n",
       "    </tr>\n",
       "    <tr>\n",
       "      <th>2</th>\n",
       "      <td>955ef0ba3e7de00197f2ab6828cb4d05</td>\n",
       "      <td>af2d613e4e5695fd4d8610a0086de760</td>\n",
       "      <td>2015-03-22 21:15:33</td>\n",
       "      <td>build</td>\n",
       "      <td>12.983333</td>\n",
       "      <td>2015-01-26</td>\n",
       "      <td>v1</td>\n",
       "      <td>2015-03</td>\n",
       "    </tr>\n",
       "    <tr>\n",
       "      <th>3</th>\n",
       "      <td>3768b95029f051316727e5413362dcff</td>\n",
       "      <td>7af8b316d551662e89ef0afbedd06be8</td>\n",
       "      <td>2015-03-22 02:17:00</td>\n",
       "      <td>build</td>\n",
       "      <td>2.416667</td>\n",
       "      <td>2015-03-22</td>\n",
       "      <td>v1</td>\n",
       "      <td>2015-03</td>\n",
       "    </tr>\n",
       "    <tr>\n",
       "      <th>4</th>\n",
       "      <td>3768b95029f051316727e5413362dcff</td>\n",
       "      <td>7af8b316d551662e89ef0afbedd06be8</td>\n",
       "      <td>2015-03-22 03:26:03</td>\n",
       "      <td>draw</td>\n",
       "      <td>5.316667</td>\n",
       "      <td>2015-03-22</td>\n",
       "      <td>v1</td>\n",
       "      <td>2015-03</td>\n",
       "    </tr>\n",
       "  </tbody>\n",
       "</table>\n",
       "</div>"
      ],
      "text/plain": [
       "                            user_id                   user_session_id  \\\n",
       "0  02fd5305cce536a1940aea0818ba7a3d  6690452e89aa62cdfa818d1f469aaf37   \n",
       "1  955ef0ba3e7de00197f2ab6828cb4d05  af2d613e4e5695fd4d8610a0086de760   \n",
       "2  955ef0ba3e7de00197f2ab6828cb4d05  af2d613e4e5695fd4d8610a0086de760   \n",
       "3  3768b95029f051316727e5413362dcff  7af8b316d551662e89ef0afbedd06be8   \n",
       "4  3768b95029f051316727e5413362dcff  7af8b316d551662e89ef0afbedd06be8   \n",
       "\n",
       "      event_timestamp    app   time_min install_date app_version     date  \n",
       "0 2015-03-22 00:08:12  build   1.116667   2015-03-21          v1  2015-03  \n",
       "1 2015-03-22 20:56:29  build   4.616667   2015-01-26          v1  2015-03  \n",
       "2 2015-03-22 21:15:33  build  12.983333   2015-01-26          v1  2015-03  \n",
       "3 2015-03-22 02:17:00  build   2.416667   2015-03-22          v1  2015-03  \n",
       "4 2015-03-22 03:26:03   draw   5.316667   2015-03-22          v1  2015-03  "
      ]
     },
     "execution_count": 40,
     "metadata": {},
     "output_type": "execute_result"
    }
   ],
   "source": [
    "events_4.head()"
   ]
  },
  {
   "cell_type": "code",
   "execution_count": 41,
   "metadata": {
    "collapsed": true
   },
   "outputs": [],
   "source": [
    "session_versions = events_4.groupby(['app_version','user_session_id']).agg({'time_min' : 'sum'})"
   ]
  },
  {
   "cell_type": "code",
   "execution_count": 42,
   "metadata": {},
   "outputs": [
    {
     "data": {
      "text/html": [
       "<div>\n",
       "<style>\n",
       "    .dataframe thead tr:only-child th {\n",
       "        text-align: right;\n",
       "    }\n",
       "\n",
       "    .dataframe thead th {\n",
       "        text-align: left;\n",
       "    }\n",
       "\n",
       "    .dataframe tbody tr th {\n",
       "        vertical-align: top;\n",
       "    }\n",
       "</style>\n",
       "<table border=\"1\" class=\"dataframe\">\n",
       "  <thead>\n",
       "    <tr style=\"text-align: right;\">\n",
       "      <th></th>\n",
       "      <th>app_version</th>\n",
       "      <th>user_session_id</th>\n",
       "      <th>time_min</th>\n",
       "    </tr>\n",
       "  </thead>\n",
       "  <tbody>\n",
       "    <tr>\n",
       "      <th>0</th>\n",
       "      <td>v1</td>\n",
       "      <td>000049d4bd64e00280c072f1eca2d105</td>\n",
       "      <td>0.300000</td>\n",
       "    </tr>\n",
       "    <tr>\n",
       "      <th>1</th>\n",
       "      <td>v1</td>\n",
       "      <td>001354e84313a35579d47262fd3360c0</td>\n",
       "      <td>15.300000</td>\n",
       "    </tr>\n",
       "    <tr>\n",
       "      <th>2</th>\n",
       "      <td>v1</td>\n",
       "      <td>00ab5a9d45b6b2adc4c7838bb7b00fbf</td>\n",
       "      <td>4.100000</td>\n",
       "    </tr>\n",
       "    <tr>\n",
       "      <th>3</th>\n",
       "      <td>v1</td>\n",
       "      <td>00fd85e8beda3b77003300f175124cbb</td>\n",
       "      <td>3.150000</td>\n",
       "    </tr>\n",
       "    <tr>\n",
       "      <th>4</th>\n",
       "      <td>v1</td>\n",
       "      <td>0120f8d5052eb676662bc84e7d9e545e</td>\n",
       "      <td>30.016667</td>\n",
       "    </tr>\n",
       "    <tr>\n",
       "      <th>5</th>\n",
       "      <td>v1</td>\n",
       "      <td>015cfd0bb2234184f4cc17c0634033a2</td>\n",
       "      <td>4.166667</td>\n",
       "    </tr>\n",
       "  </tbody>\n",
       "</table>\n",
       "</div>"
      ],
      "text/plain": [
       "  app_version                   user_session_id   time_min\n",
       "0          v1  000049d4bd64e00280c072f1eca2d105   0.300000\n",
       "1          v1  001354e84313a35579d47262fd3360c0  15.300000\n",
       "2          v1  00ab5a9d45b6b2adc4c7838bb7b00fbf   4.100000\n",
       "3          v1  00fd85e8beda3b77003300f175124cbb   3.150000\n",
       "4          v1  0120f8d5052eb676662bc84e7d9e545e  30.016667\n",
       "5          v1  015cfd0bb2234184f4cc17c0634033a2   4.166667"
      ]
     },
     "execution_count": 42,
     "metadata": {},
     "output_type": "execute_result"
    }
   ],
   "source": [
    "session_versions = session_versions.reset_index()\n",
    "session_versions.head(6)"
   ]
  },
  {
   "cell_type": "code",
   "execution_count": 43,
   "metadata": {},
   "outputs": [
    {
     "data": {
      "text/html": [
       "<div>\n",
       "<style>\n",
       "    .dataframe thead tr:only-child th {\n",
       "        text-align: right;\n",
       "    }\n",
       "\n",
       "    .dataframe thead th {\n",
       "        text-align: left;\n",
       "    }\n",
       "\n",
       "    .dataframe tbody tr th {\n",
       "        vertical-align: top;\n",
       "    }\n",
       "</style>\n",
       "<table border=\"1\" class=\"dataframe\">\n",
       "  <thead>\n",
       "    <tr style=\"text-align: right;\">\n",
       "      <th></th>\n",
       "      <th>user_session_id</th>\n",
       "      <th>time_min</th>\n",
       "    </tr>\n",
       "    <tr>\n",
       "      <th>app_version</th>\n",
       "      <th></th>\n",
       "      <th></th>\n",
       "    </tr>\n",
       "  </thead>\n",
       "  <tbody>\n",
       "    <tr>\n",
       "      <th>v1</th>\n",
       "      <td>1086</td>\n",
       "      <td>26.483441</td>\n",
       "    </tr>\n",
       "    <tr>\n",
       "      <th>v2</th>\n",
       "      <td>12558</td>\n",
       "      <td>30.322043</td>\n",
       "    </tr>\n",
       "    <tr>\n",
       "      <th>v3</th>\n",
       "      <td>454</td>\n",
       "      <td>33.030140</td>\n",
       "    </tr>\n",
       "  </tbody>\n",
       "</table>\n",
       "</div>"
      ],
      "text/plain": [
       "             user_session_id   time_min\n",
       "app_version                            \n",
       "v1                      1086  26.483441\n",
       "v2                     12558  30.322043\n",
       "v3                       454  33.030140"
      ]
     },
     "execution_count": 43,
     "metadata": {},
     "output_type": "execute_result"
    }
   ],
   "source": [
    "session_versions_2 = session_versions.groupby(['app_version']).agg({'user_session_id':'count','time_min': 'mean'})\n",
    "session_versions_2"
   ]
  },
  {
   "cell_type": "code",
   "execution_count": 44,
   "metadata": {
    "collapsed": true
   },
   "outputs": [],
   "source": [
    "version_1 = session_versions[session_versions['app_version']=='v1']['time_min']\n",
    "version_2 = session_versions[session_versions['app_version']=='v2']['time_min']\n",
    "version_3 = session_versions[session_versions['app_version']=='v3']['time_min']"
   ]
  },
  {
   "cell_type": "code",
   "execution_count": 45,
   "metadata": {
    "collapsed": true
   },
   "outputs": [],
   "source": [
    "bins = [-0.1, 1, 5, 10, 30, 60, 480, 1000]"
   ]
  },
  {
   "cell_type": "code",
   "execution_count": 46,
   "metadata": {
    "collapsed": true
   },
   "outputs": [],
   "source": [
    "version_1_buckets = pd.cut(version_1, bins=bins)\n",
    "version_2_buckets = pd.cut(version_2, bins=bins)\n",
    "version_3_buckets = pd.cut(version_3, bins=bins)"
   ]
  },
  {
   "cell_type": "code",
   "execution_count": 47,
   "metadata": {},
   "outputs": [
    {
     "data": {
      "text/plain": [
       "(10.0, 30.0]       322\n",
       "(1.0, 5.0]         200\n",
       "(30.0, 60.0]       182\n",
       "(5.0, 10.0]        154\n",
       "(60.0, 480.0]      144\n",
       "(-0.1, 1.0]         84\n",
       "(480.0, 1000.0]      0\n",
       "Name: time_min, dtype: int64"
      ]
     },
     "execution_count": 47,
     "metadata": {},
     "output_type": "execute_result"
    }
   ],
   "source": [
    "version_1_buckets.value_counts()"
   ]
  },
  {
   "cell_type": "code",
   "execution_count": 48,
   "metadata": {},
   "outputs": [
    {
     "data": {
      "text/plain": [
       "(10.0, 30.0]       3715\n",
       "(30.0, 60.0]       2275\n",
       "(1.0, 5.0]         2132\n",
       "(60.0, 480.0]      1905\n",
       "(5.0, 10.0]        1580\n",
       "(-0.1, 1.0]         945\n",
       "(480.0, 1000.0]       6\n",
       "Name: time_min, dtype: int64"
      ]
     },
     "execution_count": 48,
     "metadata": {},
     "output_type": "execute_result"
    }
   ],
   "source": [
    "version_2_buckets.value_counts()"
   ]
  },
  {
   "cell_type": "code",
   "execution_count": 49,
   "metadata": {},
   "outputs": [
    {
     "data": {
      "text/plain": [
       "(10.0, 30.0]       137\n",
       "(60.0, 480.0]       89\n",
       "(1.0, 5.0]          84\n",
       "(30.0, 60.0]        64\n",
       "(5.0, 10.0]         42\n",
       "(-0.1, 1.0]         38\n",
       "(480.0, 1000.0]      0\n",
       "Name: time_min, dtype: int64"
      ]
     },
     "execution_count": 49,
     "metadata": {},
     "output_type": "execute_result"
    }
   ],
   "source": [
    "version_3_buckets.value_counts()"
   ]
  },
  {
   "cell_type": "markdown",
   "metadata": {},
   "source": [
    "# Monthly Session Counts per User"
   ]
  },
  {
   "cell_type": "code",
   "execution_count": 50,
   "metadata": {},
   "outputs": [
    {
     "data": {
      "text/html": [
       "<div>\n",
       "<style>\n",
       "    .dataframe thead tr:only-child th {\n",
       "        text-align: right;\n",
       "    }\n",
       "\n",
       "    .dataframe thead th {\n",
       "        text-align: left;\n",
       "    }\n",
       "\n",
       "    .dataframe tbody tr th {\n",
       "        vertical-align: top;\n",
       "    }\n",
       "</style>\n",
       "<table border=\"1\" class=\"dataframe\">\n",
       "  <thead>\n",
       "    <tr style=\"text-align: right;\">\n",
       "      <th></th>\n",
       "      <th>user_id</th>\n",
       "      <th>user_session_id</th>\n",
       "      <th>event_timestamp</th>\n",
       "      <th>app</th>\n",
       "      <th>time_min</th>\n",
       "      <th>install_date</th>\n",
       "      <th>app_version</th>\n",
       "      <th>date</th>\n",
       "    </tr>\n",
       "  </thead>\n",
       "  <tbody>\n",
       "    <tr>\n",
       "      <th>0</th>\n",
       "      <td>02fd5305cce536a1940aea0818ba7a3d</td>\n",
       "      <td>6690452e89aa62cdfa818d1f469aaf37</td>\n",
       "      <td>2015-03-22 00:08:12</td>\n",
       "      <td>build</td>\n",
       "      <td>1.116667</td>\n",
       "      <td>2015-03-21</td>\n",
       "      <td>v1</td>\n",
       "      <td>2015-03</td>\n",
       "    </tr>\n",
       "    <tr>\n",
       "      <th>1</th>\n",
       "      <td>955ef0ba3e7de00197f2ab6828cb4d05</td>\n",
       "      <td>af2d613e4e5695fd4d8610a0086de760</td>\n",
       "      <td>2015-03-22 20:56:29</td>\n",
       "      <td>build</td>\n",
       "      <td>4.616667</td>\n",
       "      <td>2015-01-26</td>\n",
       "      <td>v1</td>\n",
       "      <td>2015-03</td>\n",
       "    </tr>\n",
       "    <tr>\n",
       "      <th>2</th>\n",
       "      <td>955ef0ba3e7de00197f2ab6828cb4d05</td>\n",
       "      <td>af2d613e4e5695fd4d8610a0086de760</td>\n",
       "      <td>2015-03-22 21:15:33</td>\n",
       "      <td>build</td>\n",
       "      <td>12.983333</td>\n",
       "      <td>2015-01-26</td>\n",
       "      <td>v1</td>\n",
       "      <td>2015-03</td>\n",
       "    </tr>\n",
       "  </tbody>\n",
       "</table>\n",
       "</div>"
      ],
      "text/plain": [
       "                            user_id                   user_session_id  \\\n",
       "0  02fd5305cce536a1940aea0818ba7a3d  6690452e89aa62cdfa818d1f469aaf37   \n",
       "1  955ef0ba3e7de00197f2ab6828cb4d05  af2d613e4e5695fd4d8610a0086de760   \n",
       "2  955ef0ba3e7de00197f2ab6828cb4d05  af2d613e4e5695fd4d8610a0086de760   \n",
       "\n",
       "      event_timestamp    app   time_min install_date app_version     date  \n",
       "0 2015-03-22 00:08:12  build   1.116667   2015-03-21          v1  2015-03  \n",
       "1 2015-03-22 20:56:29  build   4.616667   2015-01-26          v1  2015-03  \n",
       "2 2015-03-22 21:15:33  build  12.983333   2015-01-26          v1  2015-03  "
      ]
     },
     "execution_count": 50,
     "metadata": {},
     "output_type": "execute_result"
    }
   ],
   "source": [
    "events_4.head(3)"
   ]
  },
  {
   "cell_type": "code",
   "execution_count": 51,
   "metadata": {
    "collapsed": true
   },
   "outputs": [],
   "source": [
    "session_versions_3 = events_4.groupby(['app_version','date','user_id']).agg({'user_session_id' : pd.Series.nunique})\n",
    "session_versions_4 = session_versions_3.groupby(['app_version','date']).agg({'user_session_id' : 'mean'})"
   ]
  },
  {
   "cell_type": "code",
   "execution_count": 52,
   "metadata": {},
   "outputs": [
    {
     "data": {
      "text/html": [
       "<div>\n",
       "<style>\n",
       "    .dataframe thead tr:only-child th {\n",
       "        text-align: right;\n",
       "    }\n",
       "\n",
       "    .dataframe thead th {\n",
       "        text-align: left;\n",
       "    }\n",
       "\n",
       "    .dataframe tbody tr th {\n",
       "        vertical-align: top;\n",
       "    }\n",
       "</style>\n",
       "<table border=\"1\" class=\"dataframe\">\n",
       "  <thead>\n",
       "    <tr style=\"text-align: right;\">\n",
       "      <th></th>\n",
       "      <th></th>\n",
       "      <th>user_session_id</th>\n",
       "    </tr>\n",
       "    <tr>\n",
       "      <th>app_version</th>\n",
       "      <th>date</th>\n",
       "      <th></th>\n",
       "    </tr>\n",
       "  </thead>\n",
       "  <tbody>\n",
       "    <tr>\n",
       "      <th rowspan=\"5\" valign=\"top\">v1</th>\n",
       "      <th>2015-03</th>\n",
       "      <td>1.538462</td>\n",
       "    </tr>\n",
       "    <tr>\n",
       "      <th>2015-04</th>\n",
       "      <td>1.696203</td>\n",
       "    </tr>\n",
       "    <tr>\n",
       "      <th>2015-05</th>\n",
       "      <td>2.545455</td>\n",
       "    </tr>\n",
       "    <tr>\n",
       "      <th>2015-06</th>\n",
       "      <td>2.222222</td>\n",
       "    </tr>\n",
       "    <tr>\n",
       "      <th>2015-07</th>\n",
       "      <td>2.419355</td>\n",
       "    </tr>\n",
       "  </tbody>\n",
       "</table>\n",
       "</div>"
      ],
      "text/plain": [
       "                     user_session_id\n",
       "app_version date                    \n",
       "v1          2015-03         1.538462\n",
       "            2015-04         1.696203\n",
       "            2015-05         2.545455\n",
       "            2015-06         2.222222\n",
       "            2015-07         2.419355"
      ]
     },
     "execution_count": 52,
     "metadata": {},
     "output_type": "execute_result"
    }
   ],
   "source": [
    "session_versions_4.head()"
   ]
  },
  {
   "cell_type": "code",
   "execution_count": 53,
   "metadata": {
    "collapsed": true
   },
   "outputs": [],
   "source": [
    "session_versions_5 = session_versions_4.unstack(level=0)"
   ]
  },
  {
   "cell_type": "code",
   "execution_count": 54,
   "metadata": {},
   "outputs": [
    {
     "data": {
      "text/html": [
       "<div>\n",
       "<style>\n",
       "    .dataframe thead tr:only-child th {\n",
       "        text-align: right;\n",
       "    }\n",
       "\n",
       "    .dataframe thead th {\n",
       "        text-align: left;\n",
       "    }\n",
       "\n",
       "    .dataframe tbody tr th {\n",
       "        vertical-align: top;\n",
       "    }\n",
       "</style>\n",
       "<table border=\"1\" class=\"dataframe\">\n",
       "  <thead>\n",
       "    <tr>\n",
       "      <th></th>\n",
       "      <th colspan=\"3\" halign=\"left\">user_session_id</th>\n",
       "    </tr>\n",
       "    <tr>\n",
       "      <th>app_version</th>\n",
       "      <th>v1</th>\n",
       "      <th>v2</th>\n",
       "      <th>v3</th>\n",
       "    </tr>\n",
       "    <tr>\n",
       "      <th>date</th>\n",
       "      <th></th>\n",
       "      <th></th>\n",
       "      <th></th>\n",
       "    </tr>\n",
       "  </thead>\n",
       "  <tbody>\n",
       "    <tr>\n",
       "      <th>2015-03</th>\n",
       "      <td>1.538462</td>\n",
       "      <td>NaN</td>\n",
       "      <td>NaN</td>\n",
       "    </tr>\n",
       "    <tr>\n",
       "      <th>2015-04</th>\n",
       "      <td>1.696203</td>\n",
       "      <td>NaN</td>\n",
       "      <td>NaN</td>\n",
       "    </tr>\n",
       "    <tr>\n",
       "      <th>2015-05</th>\n",
       "      <td>2.545455</td>\n",
       "      <td>2.214286</td>\n",
       "      <td>NaN</td>\n",
       "    </tr>\n",
       "    <tr>\n",
       "      <th>2015-06</th>\n",
       "      <td>2.222222</td>\n",
       "      <td>3.474359</td>\n",
       "      <td>NaN</td>\n",
       "    </tr>\n",
       "    <tr>\n",
       "      <th>2015-07</th>\n",
       "      <td>2.419355</td>\n",
       "      <td>3.155844</td>\n",
       "      <td>NaN</td>\n",
       "    </tr>\n",
       "    <tr>\n",
       "      <th>2015-08</th>\n",
       "      <td>2.363636</td>\n",
       "      <td>3.063291</td>\n",
       "      <td>NaN</td>\n",
       "    </tr>\n",
       "    <tr>\n",
       "      <th>2015-09</th>\n",
       "      <td>3.000000</td>\n",
       "      <td>3.240964</td>\n",
       "      <td>NaN</td>\n",
       "    </tr>\n",
       "    <tr>\n",
       "      <th>2015-10</th>\n",
       "      <td>2.184211</td>\n",
       "      <td>2.750000</td>\n",
       "      <td>NaN</td>\n",
       "    </tr>\n",
       "    <tr>\n",
       "      <th>2015-11</th>\n",
       "      <td>2.548387</td>\n",
       "      <td>3.565217</td>\n",
       "      <td>NaN</td>\n",
       "    </tr>\n",
       "    <tr>\n",
       "      <th>2015-12</th>\n",
       "      <td>2.461538</td>\n",
       "      <td>3.227437</td>\n",
       "      <td>NaN</td>\n",
       "    </tr>\n",
       "    <tr>\n",
       "      <th>2016-01</th>\n",
       "      <td>2.304348</td>\n",
       "      <td>3.296855</td>\n",
       "      <td>NaN</td>\n",
       "    </tr>\n",
       "    <tr>\n",
       "      <th>2016-02</th>\n",
       "      <td>1.357143</td>\n",
       "      <td>2.929293</td>\n",
       "      <td>NaN</td>\n",
       "    </tr>\n",
       "    <tr>\n",
       "      <th>2016-03</th>\n",
       "      <td>2.333333</td>\n",
       "      <td>2.829268</td>\n",
       "      <td>NaN</td>\n",
       "    </tr>\n",
       "    <tr>\n",
       "      <th>2016-04</th>\n",
       "      <td>1.666667</td>\n",
       "      <td>2.834320</td>\n",
       "      <td>5.000000</td>\n",
       "    </tr>\n",
       "    <tr>\n",
       "      <th>2016-05</th>\n",
       "      <td>1.307692</td>\n",
       "      <td>2.758278</td>\n",
       "      <td>4.200000</td>\n",
       "    </tr>\n",
       "    <tr>\n",
       "      <th>2016-06</th>\n",
       "      <td>3.333333</td>\n",
       "      <td>2.565000</td>\n",
       "      <td>4.160000</td>\n",
       "    </tr>\n",
       "    <tr>\n",
       "      <th>2016-07</th>\n",
       "      <td>2.000000</td>\n",
       "      <td>2.308108</td>\n",
       "      <td>3.593220</td>\n",
       "    </tr>\n",
       "    <tr>\n",
       "      <th>2016-08</th>\n",
       "      <td>1.900000</td>\n",
       "      <td>2.044444</td>\n",
       "      <td>2.760000</td>\n",
       "    </tr>\n",
       "    <tr>\n",
       "      <th>2016-09</th>\n",
       "      <td>2.111111</td>\n",
       "      <td>2.360465</td>\n",
       "      <td>1.882353</td>\n",
       "    </tr>\n",
       "    <tr>\n",
       "      <th>2016-10</th>\n",
       "      <td>2.000000</td>\n",
       "      <td>1.480000</td>\n",
       "      <td>1.200000</td>\n",
       "    </tr>\n",
       "  </tbody>\n",
       "</table>\n",
       "</div>"
      ],
      "text/plain": [
       "            user_session_id                    \n",
       "app_version              v1        v2        v3\n",
       "date                                           \n",
       "2015-03            1.538462       NaN       NaN\n",
       "2015-04            1.696203       NaN       NaN\n",
       "2015-05            2.545455  2.214286       NaN\n",
       "2015-06            2.222222  3.474359       NaN\n",
       "2015-07            2.419355  3.155844       NaN\n",
       "2015-08            2.363636  3.063291       NaN\n",
       "2015-09            3.000000  3.240964       NaN\n",
       "2015-10            2.184211  2.750000       NaN\n",
       "2015-11            2.548387  3.565217       NaN\n",
       "2015-12            2.461538  3.227437       NaN\n",
       "2016-01            2.304348  3.296855       NaN\n",
       "2016-02            1.357143  2.929293       NaN\n",
       "2016-03            2.333333  2.829268       NaN\n",
       "2016-04            1.666667  2.834320  5.000000\n",
       "2016-05            1.307692  2.758278  4.200000\n",
       "2016-06            3.333333  2.565000  4.160000\n",
       "2016-07            2.000000  2.308108  3.593220\n",
       "2016-08            1.900000  2.044444  2.760000\n",
       "2016-09            2.111111  2.360465  1.882353\n",
       "2016-10            2.000000  1.480000  1.200000"
      ]
     },
     "execution_count": 54,
     "metadata": {},
     "output_type": "execute_result"
    }
   ],
   "source": [
    "session_versions_5"
   ]
  },
  {
   "cell_type": "code",
   "execution_count": 55,
   "metadata": {
    "collapsed": true
   },
   "outputs": [],
   "source": [
    "session_versions_5.columns = session_versions_5.columns.droplevel(level=0)"
   ]
  },
  {
   "cell_type": "code",
   "execution_count": 56,
   "metadata": {},
   "outputs": [
    {
     "data": {
      "image/png": "[encoded data removed]",
      "text/plain": [
       "<matplotlib.figure.Figure at 0x11b018048>"
      ]
     },
     "metadata": {},
     "output_type": "display_data"
    }
   ],
   "source": [
    "session_versions_5.plot(figsize=(19,5), kind='bar')\n",
    "plt.tight_layout()\n",
    "plt.savefig('10.png')\n",
    "plt.show()"
   ]
  },
  {
   "cell_type": "markdown",
   "metadata": {},
   "source": [
    "# App Area Counts per Sessions"
   ]
  },
  {
   "cell_type": "code",
   "execution_count": 76,
   "metadata": {},
   "outputs": [
    {
     "data": {
      "text/html": [
       "<div>\n",
       "<style>\n",
       "    .dataframe thead tr:only-child th {\n",
       "        text-align: right;\n",
       "    }\n",
       "\n",
       "    .dataframe thead th {\n",
       "        text-align: left;\n",
       "    }\n",
       "\n",
       "    .dataframe tbody tr th {\n",
       "        vertical-align: top;\n",
       "    }\n",
       "</style>\n",
       "<table border=\"1\" class=\"dataframe\">\n",
       "  <thead>\n",
       "    <tr style=\"text-align: right;\">\n",
       "      <th></th>\n",
       "      <th>user_id</th>\n",
       "      <th>user_session_id</th>\n",
       "      <th>event_timestamp</th>\n",
       "      <th>app</th>\n",
       "      <th>time_min</th>\n",
       "      <th>install_date</th>\n",
       "      <th>app_version</th>\n",
       "      <th>date</th>\n",
       "    </tr>\n",
       "  </thead>\n",
       "  <tbody>\n",
       "    <tr>\n",
       "      <th>0</th>\n",
       "      <td>02fd5305cce536a1940aea0818ba7a3d</td>\n",
       "      <td>6690452e89aa62cdfa818d1f469aaf37</td>\n",
       "      <td>2015-03-22 00:08:12</td>\n",
       "      <td>build</td>\n",
       "      <td>1.116667</td>\n",
       "      <td>2015-03-21</td>\n",
       "      <td>v1</td>\n",
       "      <td>2015-03</td>\n",
       "    </tr>\n",
       "    <tr>\n",
       "      <th>1</th>\n",
       "      <td>955ef0ba3e7de00197f2ab6828cb4d05</td>\n",
       "      <td>af2d613e4e5695fd4d8610a0086de760</td>\n",
       "      <td>2015-03-22 20:56:29</td>\n",
       "      <td>build</td>\n",
       "      <td>4.616667</td>\n",
       "      <td>2015-01-26</td>\n",
       "      <td>v1</td>\n",
       "      <td>2015-03</td>\n",
       "    </tr>\n",
       "    <tr>\n",
       "      <th>2</th>\n",
       "      <td>955ef0ba3e7de00197f2ab6828cb4d05</td>\n",
       "      <td>af2d613e4e5695fd4d8610a0086de760</td>\n",
       "      <td>2015-03-22 21:15:33</td>\n",
       "      <td>build</td>\n",
       "      <td>12.983333</td>\n",
       "      <td>2015-01-26</td>\n",
       "      <td>v1</td>\n",
       "      <td>2015-03</td>\n",
       "    </tr>\n",
       "    <tr>\n",
       "      <th>3</th>\n",
       "      <td>3768b95029f051316727e5413362dcff</td>\n",
       "      <td>7af8b316d551662e89ef0afbedd06be8</td>\n",
       "      <td>2015-03-22 02:17:00</td>\n",
       "      <td>build</td>\n",
       "      <td>2.416667</td>\n",
       "      <td>2015-03-22</td>\n",
       "      <td>v1</td>\n",
       "      <td>2015-03</td>\n",
       "    </tr>\n",
       "    <tr>\n",
       "      <th>4</th>\n",
       "      <td>3768b95029f051316727e5413362dcff</td>\n",
       "      <td>7af8b316d551662e89ef0afbedd06be8</td>\n",
       "      <td>2015-03-22 03:26:03</td>\n",
       "      <td>draw</td>\n",
       "      <td>5.316667</td>\n",
       "      <td>2015-03-22</td>\n",
       "      <td>v1</td>\n",
       "      <td>2015-03</td>\n",
       "    </tr>\n",
       "  </tbody>\n",
       "</table>\n",
       "</div>"
      ],
      "text/plain": [
       "                            user_id                   user_session_id  \\\n",
       "0  02fd5305cce536a1940aea0818ba7a3d  6690452e89aa62cdfa818d1f469aaf37   \n",
       "1  955ef0ba3e7de00197f2ab6828cb4d05  af2d613e4e5695fd4d8610a0086de760   \n",
       "2  955ef0ba3e7de00197f2ab6828cb4d05  af2d613e4e5695fd4d8610a0086de760   \n",
       "3  3768b95029f051316727e5413362dcff  7af8b316d551662e89ef0afbedd06be8   \n",
       "4  3768b95029f051316727e5413362dcff  7af8b316d551662e89ef0afbedd06be8   \n",
       "\n",
       "      event_timestamp    app   time_min install_date app_version     date  \n",
       "0 2015-03-22 00:08:12  build   1.116667   2015-03-21          v1  2015-03  \n",
       "1 2015-03-22 20:56:29  build   4.616667   2015-01-26          v1  2015-03  \n",
       "2 2015-03-22 21:15:33  build  12.983333   2015-01-26          v1  2015-03  \n",
       "3 2015-03-22 02:17:00  build   2.416667   2015-03-22          v1  2015-03  \n",
       "4 2015-03-22 03:26:03   draw   5.316667   2015-03-22          v1  2015-03  "
      ]
     },
     "execution_count": 76,
     "metadata": {},
     "output_type": "execute_result"
    }
   ],
   "source": [
    "events_4.head()"
   ]
  },
  {
   "cell_type": "code",
   "execution_count": 77,
   "metadata": {
    "collapsed": true
   },
   "outputs": [],
   "source": [
    "area_1 = events_4.groupby(['app_version','date','user_session_id']).agg({'app' : pd.Series.nunique})"
   ]
  },
  {
   "cell_type": "code",
   "execution_count": 78,
   "metadata": {
    "collapsed": true
   },
   "outputs": [],
   "source": [
    "area_2 = area_1.groupby(['app_version','date']).agg({'app' : 'mean'})"
   ]
  },
  {
   "cell_type": "code",
   "execution_count": 79,
   "metadata": {
    "collapsed": true
   },
   "outputs": [],
   "source": [
    "area_3 = area_2.unstack(level=0)"
   ]
  },
  {
   "cell_type": "code",
   "execution_count": 80,
   "metadata": {},
   "outputs": [
    {
     "data": {
      "image/png": "[encoded data removed]",
      "text/plain": [
       "<matplotlib.figure.Figure at 0x11b29def0>"
      ]
     },
     "metadata": {},
     "output_type": "display_data"
    }
   ],
   "source": [
    "area_3.plot(figsize=(15,5))\n",
    "plt.tight_layout()\n",
    "plt.savefig('11.png')\n",
    "plt.show()"
   ]
  },
  {
   "cell_type": "code",
   "execution_count": null,
   "metadata": {
    "collapsed": true
   },
   "outputs": [],
   "source": []
  }
 ],
 "metadata": {
  "kernelspec": {
   "display_name": "Python 3",
   "language": "python",
   "name": "python3"
  },
  "language_info": {
   "codemirror_mode": {
    "name": "ipython",
    "version": 3
   },
   "file_extension": ".py",
   "mimetype": "text/x-python",
   "name": "python",
   "nbconvert_exporter": "python",
   "pygments_lexer": "ipython3",
   "version": "3.6.2"
  }
 },
 "nbformat": 4,
 "nbformat_minor": 2
}
